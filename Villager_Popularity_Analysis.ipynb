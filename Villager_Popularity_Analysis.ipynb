{
 "cells": [
  {
   "cell_type": "markdown",
   "id": "2b37578a",
   "metadata": {},
   "source": [
    "# Introduction\n",
    "This analysis will delve into the world of Animal Crossing: New Horizons, a popular video game developed and published by Nintendo. We will try to understand the various factors that contribute to the popularity of the game's characters, known as villagers, among the player base.\n",
    "\n",
    "Here are the villager attributes we will be looking at to see how they correlate with their popularity:\n",
    "\n",
    "- Species\n",
    "- Gender\n",
    "- Personality\n",
    "- Hobbies\n",
    "- Requests (unique requests/desires expressed by each villager in the game)\n",
    "- Song (song associated with the character)"
   ]
  },
  {
   "cell_type": "markdown",
   "id": "ac174583",
   "metadata": {},
   "source": [
    "# Importing necessary libraries"
   ]
  },
  {
   "cell_type": "code",
   "execution_count": 1,
   "id": "8e09aeff",
   "metadata": {},
   "outputs": [
    {
     "name": "stderr",
     "output_type": "stream",
     "text": [
      "[nltk_data] Downloading package stopwords to\n",
      "[nltk_data]     C:\\Users\\leesa\\AppData\\Roaming\\nltk_data...\n",
      "[nltk_data]   Package stopwords is already up-to-date!\n"
     ]
    }
   ],
   "source": [
    "import requests\n",
    "import json\n",
    "import pandas as pd\n",
    "import numpy as np\n",
    "import matplotlib.pyplot as plt\n",
    "from collections import Counter\n",
    "import nltk\n",
    "from nltk.corpus import stopwords\n",
    "nltk.download('stopwords')\n",
    "import seaborn as sns"
   ]
  },
  {
   "cell_type": "markdown",
   "id": "498fd473",
   "metadata": {},
   "source": [
    "# Load data\n",
    "Three datasets are used in this project:\n",
    "\n",
    "1. Villager Popularity Data (CSV file)\n",
    "\n",
    "2. Paradise Planning Data (CSV file)\n",
    "\n",
    "3. Villager Data (API)"
   ]
  },
  {
   "cell_type": "code",
   "execution_count": 2,
   "id": "601a106f",
   "metadata": {},
   "outputs": [
    {
     "data": {
      "text/html": [
       "<div>\n",
       "<style scoped>\n",
       "    .dataframe tbody tr th:only-of-type {\n",
       "        vertical-align: middle;\n",
       "    }\n",
       "\n",
       "    .dataframe tbody tr th {\n",
       "        vertical-align: top;\n",
       "    }\n",
       "\n",
       "    .dataframe thead th {\n",
       "        text-align: right;\n",
       "    }\n",
       "</style>\n",
       "<table border=\"1\" class=\"dataframe\">\n",
       "  <thead>\n",
       "    <tr style=\"text-align: right;\">\n",
       "      <th></th>\n",
       "      <th>tier</th>\n",
       "      <th>rank</th>\n",
       "      <th>name</th>\n",
       "    </tr>\n",
       "  </thead>\n",
       "  <tbody>\n",
       "    <tr>\n",
       "      <th>0</th>\n",
       "      <td>1</td>\n",
       "      <td>1</td>\n",
       "      <td>Raymond</td>\n",
       "    </tr>\n",
       "    <tr>\n",
       "      <th>1</th>\n",
       "      <td>1</td>\n",
       "      <td>2</td>\n",
       "      <td>Marshal</td>\n",
       "    </tr>\n",
       "    <tr>\n",
       "      <th>2</th>\n",
       "      <td>1</td>\n",
       "      <td>3</td>\n",
       "      <td>Shino</td>\n",
       "    </tr>\n",
       "    <tr>\n",
       "      <th>3</th>\n",
       "      <td>1</td>\n",
       "      <td>4</td>\n",
       "      <td>Sherb</td>\n",
       "    </tr>\n",
       "    <tr>\n",
       "      <th>4</th>\n",
       "      <td>1</td>\n",
       "      <td>5</td>\n",
       "      <td>Sasha</td>\n",
       "    </tr>\n",
       "  </tbody>\n",
       "</table>\n",
       "</div>"
      ],
      "text/plain": [
       "   tier  rank     name\n",
       "0     1     1  Raymond\n",
       "1     1     2  Marshal\n",
       "2     1     3    Shino\n",
       "3     1     4    Sherb\n",
       "4     1     5    Sasha"
      ]
     },
     "execution_count": 2,
     "metadata": {},
     "output_type": "execute_result"
    }
   ],
   "source": [
    "# read CSV file 1 which has villager popularity ratings\n",
    "popularity = pd.read_csv('data/acnh_villager_data.csv')\n",
    "\n",
    "# display first 5 rows of popularity data to examine\n",
    "popularity.head()"
   ]
  },
  {
   "cell_type": "code",
   "execution_count": 3,
   "id": "e0ea3d56",
   "metadata": {},
   "outputs": [
    {
     "data": {
      "text/html": [
       "<div>\n",
       "<style scoped>\n",
       "    .dataframe tbody tr th:only-of-type {\n",
       "        vertical-align: middle;\n",
       "    }\n",
       "\n",
       "    .dataframe tbody tr th {\n",
       "        vertical-align: top;\n",
       "    }\n",
       "\n",
       "    .dataframe thead th {\n",
       "        text-align: right;\n",
       "    }\n",
       "</style>\n",
       "<table border=\"1\" class=\"dataframe\">\n",
       "  <thead>\n",
       "    <tr style=\"text-align: right;\">\n",
       "      <th></th>\n",
       "      <th>Name</th>\n",
       "      <th>Filename</th>\n",
       "      <th>Request</th>\n",
       "      <th>Thought bubble</th>\n",
       "      <th>Song</th>\n",
       "      <th>Furniture List</th>\n",
       "      <th>Furniture Name List</th>\n",
       "      <th>Unique Entry ID</th>\n",
       "    </tr>\n",
       "  </thead>\n",
       "  <tbody>\n",
       "    <tr>\n",
       "      <th>0</th>\n",
       "      <td>Ace</td>\n",
       "      <td>brd09</td>\n",
       "      <td>The Fishin' Hole</td>\n",
       "      <td>I want a place where I can fish to my heart's ...</td>\n",
       "      <td>To the Edge</td>\n",
       "      <td>3064;13637;13347</td>\n",
       "      <td>cooler box;outdoor folding chair;yacht</td>\n",
       "      <td>yrzvoz4kNmqN8N2pX</td>\n",
       "    </tr>\n",
       "    <tr>\n",
       "      <th>1</th>\n",
       "      <td>Admiral</td>\n",
       "      <td>brd06</td>\n",
       "      <td>Cool Country Cabin</td>\n",
       "      <td>I want a cool cabin where I can relax on hot d...</td>\n",
       "      <td>K.K. Rally</td>\n",
       "      <td>2736;2326;5979</td>\n",
       "      <td>retro fan;water pump;bamboo noodle slide</td>\n",
       "      <td>2dKeMSMjBLekssvwo</td>\n",
       "    </tr>\n",
       "    <tr>\n",
       "      <th>2</th>\n",
       "      <td>Agent S</td>\n",
       "      <td>squ05</td>\n",
       "      <td>Training Grounds for a Hero</td>\n",
       "      <td>Heroes train! It's what they do, even on vacat...</td>\n",
       "      <td>Go K.K. Rider</td>\n",
       "      <td>7653;4015;4078</td>\n",
       "      <td>speed bag;shower booth;barbell</td>\n",
       "      <td>EN7dGxBHogyTYD4pS</td>\n",
       "    </tr>\n",
       "    <tr>\n",
       "      <th>3</th>\n",
       "      <td>Agnes</td>\n",
       "      <td>pig17</td>\n",
       "      <td>The Artsiest Art Museum</td>\n",
       "      <td>I want a place that's like a museum with artsy...</td>\n",
       "      <td>K.K. Fugue</td>\n",
       "      <td>1712;13255;13302</td>\n",
       "      <td>poster stand;elaborate display case;decorative...</td>\n",
       "      <td>pmmgTrYA9hvoj2v9b</td>\n",
       "    </tr>\n",
       "    <tr>\n",
       "      <th>4</th>\n",
       "      <td>Al</td>\n",
       "      <td>gor08</td>\n",
       "      <td>Gymnastics School for Kids</td>\n",
       "      <td>My dream is to someday teach gymnastics to kids.</td>\n",
       "      <td>K.K. Étude</td>\n",
       "      <td>12701;13188;7845</td>\n",
       "      <td>school locker;ball catcher;pull-up-bar stand</td>\n",
       "      <td>XKm6cmQjf4eFAHMRT</td>\n",
       "    </tr>\n",
       "  </tbody>\n",
       "</table>\n",
       "</div>"
      ],
      "text/plain": [
       "      Name Filename                      Request  \\\n",
       "0      Ace    brd09             The Fishin' Hole   \n",
       "1  Admiral    brd06           Cool Country Cabin   \n",
       "2  Agent S    squ05  Training Grounds for a Hero   \n",
       "3    Agnes    pig17      The Artsiest Art Museum   \n",
       "4       Al    gor08   Gymnastics School for Kids   \n",
       "\n",
       "                                      Thought bubble           Song  \\\n",
       "0  I want a place where I can fish to my heart's ...    To the Edge   \n",
       "1  I want a cool cabin where I can relax on hot d...     K.K. Rally   \n",
       "2  Heroes train! It's what they do, even on vacat...  Go K.K. Rider   \n",
       "3  I want a place that's like a museum with artsy...     K.K. Fugue   \n",
       "4   My dream is to someday teach gymnastics to kids.     K.K. Étude   \n",
       "\n",
       "     Furniture List                                Furniture Name List  \\\n",
       "0  3064;13637;13347             cooler box;outdoor folding chair;yacht   \n",
       "1    2736;2326;5979           retro fan;water pump;bamboo noodle slide   \n",
       "2    7653;4015;4078                     speed bag;shower booth;barbell   \n",
       "3  1712;13255;13302  poster stand;elaborate display case;decorative...   \n",
       "4  12701;13188;7845       school locker;ball catcher;pull-up-bar stand   \n",
       "\n",
       "     Unique Entry ID  \n",
       "0  yrzvoz4kNmqN8N2pX  \n",
       "1  2dKeMSMjBLekssvwo  \n",
       "2  EN7dGxBHogyTYD4pS  \n",
       "3  pmmgTrYA9hvoj2v9b  \n",
       "4  XKm6cmQjf4eFAHMRT  "
      ]
     },
     "execution_count": 3,
     "metadata": {},
     "output_type": "execute_result"
    }
   ],
   "source": [
    "# read CSV file 2 with paradise planning data for each villager\n",
    "paradise = pd.read_csv('data/Paradise Planning.csv')\n",
    "\n",
    "# display first 5 rows to examine data\n",
    "paradise.head()"
   ]
  },
  {
   "cell_type": "code",
   "execution_count": 4,
   "id": "c05368dc",
   "metadata": {},
   "outputs": [],
   "source": [
    "# retrieve villagers data from the API\n",
    "response = requests.get('https://acnhapi.com/v1/villagers')"
   ]
  },
  {
   "cell_type": "code",
   "execution_count": 5,
   "id": "0134386a",
   "metadata": {},
   "outputs": [
    {
     "name": "stdout",
     "output_type": "stream",
     "text": [
      "dict_keys(['ant00', 'ant01', 'ant02', 'ant03', 'ant06', 'ant08', 'ant09', 'bea00', 'bea01', 'bea02', 'bea03', 'bea05', 'bea06', 'bea07', 'bea08', 'bea09', 'bea10', 'bea11', 'bea12', 'bea13', 'bea14', 'bea15', 'brd00', 'brd01', 'brd02', 'brd03', 'brd04', 'brd05', 'brd06', 'brd08', 'brd11', 'brd15', 'brd16', 'brd17', 'brd18', 'bul00', 'bul01', 'bul03', 'bul05', 'bul07', 'bul08', 'cat00', 'cat01', 'cat02', 'cat03', 'cat04', 'cat05', 'cat06', 'cat07', 'cat08', 'cat09', 'cat10', 'cat11', 'cat12', 'cat13', 'cat14', 'cat15', 'cat16', 'cat17', 'cat18', 'cat19', 'cat20', 'cat21', 'cat23', 'cbr00', 'cbr01', 'cbr02', 'cbr03', 'cbr04', 'cbr05', 'cbr06', 'cbr07', 'cbr09', 'cbr10', 'cbr13', 'cbr14', 'cbr15', 'cbr16', 'cbr17', 'cbr19', 'chn00', 'chn01', 'chn02', 'chn05', 'chn09', 'chn10', 'chn11', 'chn12', 'chn13', 'cow00', 'cow01', 'cow06', 'cow07', 'crd00', 'crd01', 'crd02', 'crd04', 'crd06', 'crd07', 'crd08', 'der00', 'der01', 'der02', 'der03', 'der04', 'der05', 'der06', 'der07', 'der08', 'der09', 'dog00', 'dog01', 'dog02', 'dog03', 'dog04', 'dog05', 'dog06', 'dog07', 'dog08', 'dog09', 'dog10', 'dog14', 'dog15', 'dog16', 'dog17', 'dog18', 'duk00', 'duk01', 'duk02', 'duk03', 'duk04', 'duk05', 'duk06', 'duk07', 'duk08', 'duk09', 'duk10', 'duk11', 'duk12', 'duk13', 'duk15', 'duk16', 'duk17', 'elp00', 'elp01', 'elp02', 'elp03', 'elp04', 'elp05', 'elp06', 'elp07', 'elp09', 'elp10', 'elp12', 'flg00', 'flg01', 'flg02', 'flg03', 'flg04', 'flg05', 'flg06', 'flg07', 'flg09', 'flg10', 'flg11', 'flg12', 'flg13', 'flg15', 'flg16', 'flg17', 'flg18', 'flg19', 'goa00', 'goa01', 'goa02', 'goa04', 'goa06', 'goa07', 'goa08', 'goa09', 'gor00', 'gor01', 'gor02', 'gor04', 'gor05', 'gor07', 'gor08', 'gor09', 'gor10', 'ham00', 'ham01', 'ham02', 'ham03', 'ham04', 'ham05', 'ham06', 'ham07', 'hip00', 'hip02', 'hip03', 'hip04', 'hip05', 'hip08', 'hip09', 'hrs00', 'hrs01', 'hrs02', 'hrs03', 'hrs04', 'hrs05', 'hrs06', 'hrs07', 'hrs08', 'hrs09', 'hrs10', 'hrs11', 'hrs12', 'hrs13', 'hrs16', 'kal00', 'kal01', 'kal02', 'kal03', 'kal04', 'kal05', 'kal08', 'kal09', 'kal10', 'kgr00', 'kgr01', 'kgr02', 'kgr05', 'kgr06', 'kgr08', 'kgr09', 'kgr10', 'lon00', 'lon01', 'lon02', 'lon04', 'lon06', 'lon07', 'lon08', 'mnk01', 'mnk02', 'mnk03', 'mnk04', 'mnk05', 'mnk06', 'mnk07', 'mnk08', 'mus00', 'mus01', 'mus02', 'mus03', 'mus04', 'mus05', 'mus08', 'mus09', 'mus10', 'mus12', 'mus14', 'mus15', 'mus16', 'mus17', 'mus18', 'ocp00', 'ocp01', 'ocp02', 'ost00', 'ost01', 'ost02', 'ost03', 'ost05', 'ost06', 'ost07', 'ost08', 'ost09', 'ost10', 'pbr00', 'pbr01', 'pbr02', 'pbr03', 'pbr05', 'pbr06', 'pbr07', 'pbr08', 'pbr09', 'pgn00', 'pgn01', 'pgn02', 'pgn03', 'pgn04', 'pgn05', 'pgn06', 'pgn09', 'pgn10', 'pgn11', 'pgn12', 'pgn13', 'pgn14', 'pig00', 'pig01', 'pig02', 'pig03', 'pig04', 'pig05', 'pig08', 'pig09', 'pig10', 'pig11', 'pig13', 'pig14', 'pig15', 'pig16', 'pig17', 'rbt00', 'rbt01', 'rbt02', 'rbt03', 'rbt04', 'rbt05', 'rbt06', 'rbt07', 'rbt08', 'rbt09', 'rbt10', 'rbt11', 'rbt12', 'rbt13', 'rbt14', 'rbt15', 'rbt16', 'rbt17', 'rbt18', 'rbt19', 'rhn00', 'rhn01', 'rhn02', 'rhn04', 'rhn07', 'rhn08', 'shp00', 'shp01', 'shp02', 'shp03', 'shp04', 'shp07', 'shp08', 'shp09', 'shp10', 'shp11', 'shp12', 'shp13', 'shp15', 'squ00', 'squ01', 'squ02', 'squ03', 'squ04', 'squ05', 'squ06', 'squ07', 'squ08', 'squ09', 'squ10', 'squ11', 'squ13', 'squ14', 'squ15', 'squ16', 'squ17', 'squ18', 'tig00', 'tig01', 'tig02', 'tig03', 'tig04', 'tig05', 'tig06', 'wol00', 'wol01', 'wol02', 'wol03', 'wol04', 'wol05', 'wol06', 'wol08', 'wol09', 'wol10', 'wol12'])\n"
     ]
    }
   ],
   "source": [
    "# convert villagers data into JSON format\n",
    "data = response.json()\n",
    "\n",
    "# print the keys to understand structure\n",
    "print(data.keys())"
   ]
  },
  {
   "cell_type": "markdown",
   "id": "633c36de",
   "metadata": {},
   "source": [
    "# Clean data, merge, and calculate new values"
   ]
  },
  {
   "cell_type": "markdown",
   "id": "dcc13ee3",
   "metadata": {},
   "source": [
    "## Clean"
   ]
  },
  {
   "cell_type": "markdown",
   "id": "ab6f9448",
   "metadata": {},
   "source": [
    "### Villagers\n",
    "The villagers data needs to be converted into a dataframe. "
   ]
  },
  {
   "cell_type": "code",
   "execution_count": 6,
   "id": "616522bf",
   "metadata": {},
   "outputs": [],
   "source": [
    "# initialize empty list to store villager data\n",
    "data_list = []\n",
    "\n",
    "# loop through each key\n",
    "for key in data.keys():\n",
    "    # get the data for each villager using key\n",
    "    villager_data = data[key]\n",
    "    \n",
    "    # convert the data for the villager into a dataframe\n",
    "    villager_df = pd.json_normalize(villager_data)\n",
    "    \n",
    "    # append the dataframe to data_list\n",
    "    data_list.append(villager_df)\n",
    "    \n",
    "#concatenate all dataframes in the list into a single villagers dataframe\n",
    "villagers = pd.concat(data_list, ignore_index=True)"
   ]
  },
  {
   "cell_type": "code",
   "execution_count": 7,
   "id": "a1151748",
   "metadata": {},
   "outputs": [
    {
     "data": {
      "text/html": [
       "<div>\n",
       "<style scoped>\n",
       "    .dataframe tbody tr th:only-of-type {\n",
       "        vertical-align: middle;\n",
       "    }\n",
       "\n",
       "    .dataframe tbody tr th {\n",
       "        vertical-align: top;\n",
       "    }\n",
       "\n",
       "    .dataframe thead th {\n",
       "        text-align: right;\n",
       "    }\n",
       "</style>\n",
       "<table border=\"1\" class=\"dataframe\">\n",
       "  <thead>\n",
       "    <tr style=\"text-align: right;\">\n",
       "      <th></th>\n",
       "      <th>id</th>\n",
       "      <th>file-name</th>\n",
       "      <th>personality</th>\n",
       "      <th>birthday-string</th>\n",
       "      <th>birthday</th>\n",
       "      <th>species</th>\n",
       "      <th>gender</th>\n",
       "      <th>subtype</th>\n",
       "      <th>hobby</th>\n",
       "      <th>catch-phrase</th>\n",
       "      <th>...</th>\n",
       "      <th>catch-translations.catch-USes</th>\n",
       "      <th>catch-translations.catch-EUfr</th>\n",
       "      <th>catch-translations.catch-USfr</th>\n",
       "      <th>catch-translations.catch-EUit</th>\n",
       "      <th>catch-translations.catch-EUnl</th>\n",
       "      <th>catch-translations.catch-CNzh</th>\n",
       "      <th>catch-translations.catch-TWzh</th>\n",
       "      <th>catch-translations.catch-JPja</th>\n",
       "      <th>catch-translations.catch-KRko</th>\n",
       "      <th>catch-translations.catch-EUru</th>\n",
       "    </tr>\n",
       "  </thead>\n",
       "  <tbody>\n",
       "    <tr>\n",
       "      <th>0</th>\n",
       "      <td>1</td>\n",
       "      <td>ant00</td>\n",
       "      <td>Cranky</td>\n",
       "      <td>March 9th</td>\n",
       "      <td>9/3</td>\n",
       "      <td>Anteater</td>\n",
       "      <td>Male</td>\n",
       "      <td>B</td>\n",
       "      <td>Education</td>\n",
       "      <td>ah-CHOO</td>\n",
       "      <td>...</td>\n",
       "      <td>achús</td>\n",
       "      <td>ATCHOUM</td>\n",
       "      <td>ATCHOUM</td>\n",
       "      <td>ett-CCIÙ</td>\n",
       "      <td>ha-TSJOE</td>\n",
       "      <td>有的</td>\n",
       "      <td>有的</td>\n",
       "      <td>でごわす</td>\n",
       "      <td>임돠</td>\n",
       "      <td>апчхи</td>\n",
       "    </tr>\n",
       "    <tr>\n",
       "      <th>1</th>\n",
       "      <td>2</td>\n",
       "      <td>ant01</td>\n",
       "      <td>Jock</td>\n",
       "      <td>October 20th</td>\n",
       "      <td>20/10</td>\n",
       "      <td>Anteater</td>\n",
       "      <td>Male</td>\n",
       "      <td>B</td>\n",
       "      <td>Fitness</td>\n",
       "      <td>honk</td>\n",
       "      <td>...</td>\n",
       "      <td>fufuf</td>\n",
       "      <td>pouet</td>\n",
       "      <td>pouet</td>\n",
       "      <td>honk</td>\n",
       "      <td>snuit</td>\n",
       "      <td>真诚</td>\n",
       "      <td>真誠</td>\n",
       "      <td>ホントに</td>\n",
       "      <td>진짜로</td>\n",
       "      <td>го-го-го</td>\n",
       "    </tr>\n",
       "    <tr>\n",
       "      <th>2</th>\n",
       "      <td>3</td>\n",
       "      <td>ant02</td>\n",
       "      <td>Peppy</td>\n",
       "      <td>November 9th</td>\n",
       "      <td>9/11</td>\n",
       "      <td>Anteater</td>\n",
       "      <td>Female</td>\n",
       "      <td>B</td>\n",
       "      <td>Fashion</td>\n",
       "      <td>snooooof</td>\n",
       "      <td>...</td>\n",
       "      <td>snuf-snuf</td>\n",
       "      <td>pouuuuuf</td>\n",
       "      <td>pouuuuuf</td>\n",
       "      <td>snuuf</td>\n",
       "      <td>snufffff</td>\n",
       "      <td>希希</td>\n",
       "      <td>希希</td>\n",
       "      <td>だっしー</td>\n",
       "      <td>라지요</td>\n",
       "      <td>снуф-снуф</td>\n",
       "    </tr>\n",
       "    <tr>\n",
       "      <th>3</th>\n",
       "      <td>4</td>\n",
       "      <td>ant03</td>\n",
       "      <td>Peppy</td>\n",
       "      <td>February 16th</td>\n",
       "      <td>16/2</td>\n",
       "      <td>Anteater</td>\n",
       "      <td>Female</td>\n",
       "      <td>B</td>\n",
       "      <td>Fashion</td>\n",
       "      <td>snorty</td>\n",
       "      <td>...</td>\n",
       "      <td>fa-fiú</td>\n",
       "      <td>grognon</td>\n",
       "      <td>grognon</td>\n",
       "      <td>snorty</td>\n",
       "      <td>snork</td>\n",
       "      <td>真的假的</td>\n",
       "      <td>真的假的</td>\n",
       "      <td>マジでー</td>\n",
       "      <td>정말</td>\n",
       "      <td>хрум-хрум</td>\n",
       "    </tr>\n",
       "    <tr>\n",
       "      <th>4</th>\n",
       "      <td>5</td>\n",
       "      <td>ant06</td>\n",
       "      <td>Snooty</td>\n",
       "      <td>October 24th</td>\n",
       "      <td>24/10</td>\n",
       "      <td>Anteater</td>\n",
       "      <td>Female</td>\n",
       "      <td>A</td>\n",
       "      <td>Education</td>\n",
       "      <td>sniffff</td>\n",
       "      <td>...</td>\n",
       "      <td>sniff</td>\n",
       "      <td>snif snif</td>\n",
       "      <td>snif snif</td>\n",
       "      <td>sniffff</td>\n",
       "      <td>snuifff</td>\n",
       "      <td>麻烦了</td>\n",
       "      <td>麻煩了</td>\n",
       "      <td>たもれ</td>\n",
       "      <td>추릅</td>\n",
       "      <td>шмыг</td>\n",
       "    </tr>\n",
       "  </tbody>\n",
       "</table>\n",
       "<p>5 rows × 43 columns</p>\n",
       "</div>"
      ],
      "text/plain": [
       "   id file-name personality birthday-string birthday   species  gender  \\\n",
       "0   1     ant00      Cranky       March 9th      9/3  Anteater    Male   \n",
       "1   2     ant01        Jock    October 20th    20/10  Anteater    Male   \n",
       "2   3     ant02       Peppy    November 9th     9/11  Anteater  Female   \n",
       "3   4     ant03       Peppy   February 16th     16/2  Anteater  Female   \n",
       "4   5     ant06      Snooty    October 24th    24/10  Anteater  Female   \n",
       "\n",
       "  subtype      hobby catch-phrase  ... catch-translations.catch-USes  \\\n",
       "0       B  Education      ah-CHOO  ...                         achús   \n",
       "1       B    Fitness         honk  ...                         fufuf   \n",
       "2       B    Fashion     snooooof  ...                     snuf-snuf   \n",
       "3       B    Fashion       snorty  ...                        fa-fiú   \n",
       "4       A  Education      sniffff  ...                         sniff   \n",
       "\n",
       "  catch-translations.catch-EUfr catch-translations.catch-USfr  \\\n",
       "0                       ATCHOUM                       ATCHOUM   \n",
       "1                         pouet                         pouet   \n",
       "2                      pouuuuuf                      pouuuuuf   \n",
       "3                       grognon                       grognon   \n",
       "4                     snif snif                     snif snif   \n",
       "\n",
       "  catch-translations.catch-EUit catch-translations.catch-EUnl  \\\n",
       "0                      ett-CCIÙ                      ha-TSJOE   \n",
       "1                          honk                         snuit   \n",
       "2                         snuuf                      snufffff   \n",
       "3                        snorty                         snork   \n",
       "4                       sniffff                       snuifff   \n",
       "\n",
       "  catch-translations.catch-CNzh catch-translations.catch-TWzh  \\\n",
       "0                            有的                            有的   \n",
       "1                            真诚                            真誠   \n",
       "2                            希希                            希希   \n",
       "3                          真的假的                          真的假的   \n",
       "4                           麻烦了                           麻煩了   \n",
       "\n",
       "  catch-translations.catch-JPja catch-translations.catch-KRko  \\\n",
       "0                          でごわす                            임돠   \n",
       "1                          ホントに                           진짜로   \n",
       "2                          だっしー                           라지요   \n",
       "3                          マジでー                            정말   \n",
       "4                           たもれ                            추릅   \n",
       "\n",
       "  catch-translations.catch-EUru  \n",
       "0                         апчхи  \n",
       "1                      го-го-го  \n",
       "2                     снуф-снуф  \n",
       "3                     хрум-хрум  \n",
       "4                          шмыг  \n",
       "\n",
       "[5 rows x 43 columns]"
      ]
     },
     "execution_count": 7,
     "metadata": {},
     "output_type": "execute_result"
    }
   ],
   "source": [
    "# display first 5 rows of villagers data to examine\n",
    "villagers.head()"
   ]
  },
  {
   "cell_type": "markdown",
   "id": "8c221d56",
   "metadata": {},
   "source": [
    "Next, the villagers dataframe will be cleaned by performing the following steps:\n",
    "1. Examine the column names and  remove any columns that are not relevant to our analysis.\n",
    "2. Rearrange the columns for better readability.\n",
    "3. Convert column names to title case for consistency.\n",
    "4. Rename the column containing the names of the villagers to 'Name'.\n",
    "5. In the 'Personality' column, replace the term 'Uchi' with 'Big Sister' to better reflect the English translation of this personality type.\""
   ]
  },
  {
   "cell_type": "code",
   "execution_count": 8,
   "id": "a1762fd0",
   "metadata": {},
   "outputs": [
    {
     "name": "stdout",
     "output_type": "stream",
     "text": [
      "Index(['id', 'file-name', 'personality', 'birthday-string', 'birthday',\n",
      "       'species', 'gender', 'subtype', 'hobby', 'catch-phrase', 'icon_uri',\n",
      "       'image_uri', 'bubble-color', 'text-color', 'saying', 'name.name-USen',\n",
      "       'name.name-EUen', 'name.name-EUde', 'name.name-EUes', 'name.name-USes',\n",
      "       'name.name-EUfr', 'name.name-USfr', 'name.name-EUit', 'name.name-EUnl',\n",
      "       'name.name-CNzh', 'name.name-TWzh', 'name.name-JPja', 'name.name-KRko',\n",
      "       'name.name-EUru', 'catch-translations.catch-USen',\n",
      "       'catch-translations.catch-EUen', 'catch-translations.catch-EUde',\n",
      "       'catch-translations.catch-EUes', 'catch-translations.catch-USes',\n",
      "       'catch-translations.catch-EUfr', 'catch-translations.catch-USfr',\n",
      "       'catch-translations.catch-EUit', 'catch-translations.catch-EUnl',\n",
      "       'catch-translations.catch-CNzh', 'catch-translations.catch-TWzh',\n",
      "       'catch-translations.catch-JPja', 'catch-translations.catch-KRko',\n",
      "       'catch-translations.catch-EUru'],\n",
      "      dtype='object')\n"
     ]
    }
   ],
   "source": [
    "# print column names from villagers data to see which columns are not needed\n",
    "print(villagers.columns)"
   ]
  },
  {
   "cell_type": "code",
   "execution_count": 9,
   "id": "6f741a90",
   "metadata": {},
   "outputs": [
    {
     "data": {
      "text/html": [
       "<div>\n",
       "<style scoped>\n",
       "    .dataframe tbody tr th:only-of-type {\n",
       "        vertical-align: middle;\n",
       "    }\n",
       "\n",
       "    .dataframe tbody tr th {\n",
       "        vertical-align: top;\n",
       "    }\n",
       "\n",
       "    .dataframe thead th {\n",
       "        text-align: right;\n",
       "    }\n",
       "</style>\n",
       "<table border=\"1\" class=\"dataframe\">\n",
       "  <thead>\n",
       "    <tr style=\"text-align: right;\">\n",
       "      <th></th>\n",
       "      <th>id</th>\n",
       "      <th>personality</th>\n",
       "      <th>species</th>\n",
       "      <th>gender</th>\n",
       "      <th>hobby</th>\n",
       "      <th>name.name-USen</th>\n",
       "    </tr>\n",
       "  </thead>\n",
       "  <tbody>\n",
       "    <tr>\n",
       "      <th>0</th>\n",
       "      <td>1</td>\n",
       "      <td>Cranky</td>\n",
       "      <td>Anteater</td>\n",
       "      <td>Male</td>\n",
       "      <td>Education</td>\n",
       "      <td>Cyrano</td>\n",
       "    </tr>\n",
       "    <tr>\n",
       "      <th>1</th>\n",
       "      <td>2</td>\n",
       "      <td>Jock</td>\n",
       "      <td>Anteater</td>\n",
       "      <td>Male</td>\n",
       "      <td>Fitness</td>\n",
       "      <td>Antonio</td>\n",
       "    </tr>\n",
       "    <tr>\n",
       "      <th>2</th>\n",
       "      <td>3</td>\n",
       "      <td>Peppy</td>\n",
       "      <td>Anteater</td>\n",
       "      <td>Female</td>\n",
       "      <td>Fashion</td>\n",
       "      <td>Pango</td>\n",
       "    </tr>\n",
       "    <tr>\n",
       "      <th>3</th>\n",
       "      <td>4</td>\n",
       "      <td>Peppy</td>\n",
       "      <td>Anteater</td>\n",
       "      <td>Female</td>\n",
       "      <td>Fashion</td>\n",
       "      <td>Anabelle</td>\n",
       "    </tr>\n",
       "    <tr>\n",
       "      <th>4</th>\n",
       "      <td>5</td>\n",
       "      <td>Snooty</td>\n",
       "      <td>Anteater</td>\n",
       "      <td>Female</td>\n",
       "      <td>Education</td>\n",
       "      <td>Snooty</td>\n",
       "    </tr>\n",
       "  </tbody>\n",
       "</table>\n",
       "</div>"
      ],
      "text/plain": [
       "   id personality   species  gender      hobby name.name-USen\n",
       "0   1      Cranky  Anteater    Male  Education         Cyrano\n",
       "1   2        Jock  Anteater    Male    Fitness        Antonio\n",
       "2   3       Peppy  Anteater  Female    Fashion          Pango\n",
       "3   4       Peppy  Anteater  Female    Fashion       Anabelle\n",
       "4   5      Snooty  Anteater  Female  Education         Snooty"
      ]
     },
     "execution_count": 9,
     "metadata": {},
     "output_type": "execute_result"
    }
   ],
   "source": [
    "# DROP UNNEEDED COLUMNS IN VILLAGERS DATAFRAME\n",
    "# define list of column names to drop from the villagers dataframe\n",
    "columns_to_drop = ['file-name', 'birthday-string', 'birthday', 'subtype', 'catch-phrase', 'bubble-color', 'text-color', 'saying', 'icon_uri', 'image_uri', 'name.name-EUen', 'name.name-EUde', 'name.name-EUes', 'name.name-USes',\n",
    "       'name.name-EUfr', 'name.name-USfr', 'name.name-EUit', 'name.name-EUnl',\n",
    "       'name.name-CNzh', 'name.name-TWzh', 'name.name-JPja', 'name.name-KRko',\n",
    "       'name.name-EUru', 'catch-translations.catch-USen',\n",
    "       'catch-translations.catch-EUen', 'catch-translations.catch-EUde',\n",
    "       'catch-translations.catch-EUes', 'catch-translations.catch-USes',\n",
    "       'catch-translations.catch-EUfr', 'catch-translations.catch-USfr',\n",
    "       'catch-translations.catch-EUit', 'catch-translations.catch-EUnl',\n",
    "       'catch-translations.catch-CNzh', 'catch-translations.catch-TWzh',\n",
    "       'catch-translations.catch-JPja', 'catch-translations.catch-KRko',\n",
    "       'catch-translations.catch-EUru']\n",
    "\n",
    "# drop the columns from the villagers dataframe\n",
    "villagers = villagers.drop(columns=columns_to_drop)\n",
    "\n",
    "# display the first 5 rows to verify the columns were dropped\n",
    "villagers.head()"
   ]
  },
  {
   "cell_type": "code",
   "execution_count": 10,
   "id": "cfa40dc0",
   "metadata": {},
   "outputs": [
    {
     "data": {
      "text/html": [
       "<div>\n",
       "<style scoped>\n",
       "    .dataframe tbody tr th:only-of-type {\n",
       "        vertical-align: middle;\n",
       "    }\n",
       "\n",
       "    .dataframe tbody tr th {\n",
       "        vertical-align: top;\n",
       "    }\n",
       "\n",
       "    .dataframe thead th {\n",
       "        text-align: right;\n",
       "    }\n",
       "</style>\n",
       "<table border=\"1\" class=\"dataframe\">\n",
       "  <thead>\n",
       "    <tr style=\"text-align: right;\">\n",
       "      <th></th>\n",
       "      <th>id</th>\n",
       "      <th>name.name-USen</th>\n",
       "      <th>personality</th>\n",
       "      <th>species</th>\n",
       "      <th>gender</th>\n",
       "      <th>hobby</th>\n",
       "    </tr>\n",
       "  </thead>\n",
       "  <tbody>\n",
       "    <tr>\n",
       "      <th>0</th>\n",
       "      <td>1</td>\n",
       "      <td>Cyrano</td>\n",
       "      <td>Cranky</td>\n",
       "      <td>Anteater</td>\n",
       "      <td>Male</td>\n",
       "      <td>Education</td>\n",
       "    </tr>\n",
       "    <tr>\n",
       "      <th>1</th>\n",
       "      <td>2</td>\n",
       "      <td>Antonio</td>\n",
       "      <td>Jock</td>\n",
       "      <td>Anteater</td>\n",
       "      <td>Male</td>\n",
       "      <td>Fitness</td>\n",
       "    </tr>\n",
       "    <tr>\n",
       "      <th>2</th>\n",
       "      <td>3</td>\n",
       "      <td>Pango</td>\n",
       "      <td>Peppy</td>\n",
       "      <td>Anteater</td>\n",
       "      <td>Female</td>\n",
       "      <td>Fashion</td>\n",
       "    </tr>\n",
       "    <tr>\n",
       "      <th>3</th>\n",
       "      <td>4</td>\n",
       "      <td>Anabelle</td>\n",
       "      <td>Peppy</td>\n",
       "      <td>Anteater</td>\n",
       "      <td>Female</td>\n",
       "      <td>Fashion</td>\n",
       "    </tr>\n",
       "    <tr>\n",
       "      <th>4</th>\n",
       "      <td>5</td>\n",
       "      <td>Snooty</td>\n",
       "      <td>Snooty</td>\n",
       "      <td>Anteater</td>\n",
       "      <td>Female</td>\n",
       "      <td>Education</td>\n",
       "    </tr>\n",
       "  </tbody>\n",
       "</table>\n",
       "</div>"
      ],
      "text/plain": [
       "   id name.name-USen personality   species  gender      hobby\n",
       "0   1         Cyrano      Cranky  Anteater    Male  Education\n",
       "1   2        Antonio        Jock  Anteater    Male    Fitness\n",
       "2   3          Pango       Peppy  Anteater  Female    Fashion\n",
       "3   4       Anabelle       Peppy  Anteater  Female    Fashion\n",
       "4   5         Snooty      Snooty  Anteater  Female  Education"
      ]
     },
     "execution_count": 10,
     "metadata": {},
     "output_type": "execute_result"
    }
   ],
   "source": [
    "# move column with names of villagers to the second column\n",
    "villagers.insert(1, 'name.name-USen', villagers.pop('name.name-USen'))\n",
    "\n",
    "# display the first 5 rows to verify the column was moved\n",
    "villagers.head()"
   ]
  },
  {
   "cell_type": "code",
   "execution_count": 11,
   "id": "09d69f8c",
   "metadata": {},
   "outputs": [
    {
     "data": {
      "text/html": [
       "<div>\n",
       "<style scoped>\n",
       "    .dataframe tbody tr th:only-of-type {\n",
       "        vertical-align: middle;\n",
       "    }\n",
       "\n",
       "    .dataframe tbody tr th {\n",
       "        vertical-align: top;\n",
       "    }\n",
       "\n",
       "    .dataframe thead th {\n",
       "        text-align: right;\n",
       "    }\n",
       "</style>\n",
       "<table border=\"1\" class=\"dataframe\">\n",
       "  <thead>\n",
       "    <tr style=\"text-align: right;\">\n",
       "      <th></th>\n",
       "      <th>Id</th>\n",
       "      <th>Name.Name-Usen</th>\n",
       "      <th>Personality</th>\n",
       "      <th>Species</th>\n",
       "      <th>Gender</th>\n",
       "      <th>Hobby</th>\n",
       "    </tr>\n",
       "  </thead>\n",
       "  <tbody>\n",
       "    <tr>\n",
       "      <th>0</th>\n",
       "      <td>1</td>\n",
       "      <td>Cyrano</td>\n",
       "      <td>Cranky</td>\n",
       "      <td>Anteater</td>\n",
       "      <td>Male</td>\n",
       "      <td>Education</td>\n",
       "    </tr>\n",
       "    <tr>\n",
       "      <th>1</th>\n",
       "      <td>2</td>\n",
       "      <td>Antonio</td>\n",
       "      <td>Jock</td>\n",
       "      <td>Anteater</td>\n",
       "      <td>Male</td>\n",
       "      <td>Fitness</td>\n",
       "    </tr>\n",
       "    <tr>\n",
       "      <th>2</th>\n",
       "      <td>3</td>\n",
       "      <td>Pango</td>\n",
       "      <td>Peppy</td>\n",
       "      <td>Anteater</td>\n",
       "      <td>Female</td>\n",
       "      <td>Fashion</td>\n",
       "    </tr>\n",
       "    <tr>\n",
       "      <th>3</th>\n",
       "      <td>4</td>\n",
       "      <td>Anabelle</td>\n",
       "      <td>Peppy</td>\n",
       "      <td>Anteater</td>\n",
       "      <td>Female</td>\n",
       "      <td>Fashion</td>\n",
       "    </tr>\n",
       "    <tr>\n",
       "      <th>4</th>\n",
       "      <td>5</td>\n",
       "      <td>Snooty</td>\n",
       "      <td>Snooty</td>\n",
       "      <td>Anteater</td>\n",
       "      <td>Female</td>\n",
       "      <td>Education</td>\n",
       "    </tr>\n",
       "  </tbody>\n",
       "</table>\n",
       "</div>"
      ],
      "text/plain": [
       "   Id Name.Name-Usen Personality   Species  Gender      Hobby\n",
       "0   1         Cyrano      Cranky  Anteater    Male  Education\n",
       "1   2        Antonio        Jock  Anteater    Male    Fitness\n",
       "2   3          Pango       Peppy  Anteater  Female    Fashion\n",
       "3   4       Anabelle       Peppy  Anteater  Female    Fashion\n",
       "4   5         Snooty      Snooty  Anteater  Female  Education"
      ]
     },
     "execution_count": 11,
     "metadata": {},
     "output_type": "execute_result"
    }
   ],
   "source": [
    "# change all column names in villagers data to title case\n",
    "villagers.columns = villagers.columns.str.title()\n",
    "\n",
    "# display the first 5 rows to verify\n",
    "villagers.head()"
   ]
  },
  {
   "cell_type": "code",
   "execution_count": 12,
   "id": "7f7848e4",
   "metadata": {},
   "outputs": [
    {
     "data": {
      "text/html": [
       "<div>\n",
       "<style scoped>\n",
       "    .dataframe tbody tr th:only-of-type {\n",
       "        vertical-align: middle;\n",
       "    }\n",
       "\n",
       "    .dataframe tbody tr th {\n",
       "        vertical-align: top;\n",
       "    }\n",
       "\n",
       "    .dataframe thead th {\n",
       "        text-align: right;\n",
       "    }\n",
       "</style>\n",
       "<table border=\"1\" class=\"dataframe\">\n",
       "  <thead>\n",
       "    <tr style=\"text-align: right;\">\n",
       "      <th></th>\n",
       "      <th>Id</th>\n",
       "      <th>Name</th>\n",
       "      <th>Personality</th>\n",
       "      <th>Species</th>\n",
       "      <th>Gender</th>\n",
       "      <th>Hobby</th>\n",
       "    </tr>\n",
       "  </thead>\n",
       "  <tbody>\n",
       "    <tr>\n",
       "      <th>0</th>\n",
       "      <td>1</td>\n",
       "      <td>Cyrano</td>\n",
       "      <td>Cranky</td>\n",
       "      <td>Anteater</td>\n",
       "      <td>Male</td>\n",
       "      <td>Education</td>\n",
       "    </tr>\n",
       "    <tr>\n",
       "      <th>1</th>\n",
       "      <td>2</td>\n",
       "      <td>Antonio</td>\n",
       "      <td>Jock</td>\n",
       "      <td>Anteater</td>\n",
       "      <td>Male</td>\n",
       "      <td>Fitness</td>\n",
       "    </tr>\n",
       "    <tr>\n",
       "      <th>2</th>\n",
       "      <td>3</td>\n",
       "      <td>Pango</td>\n",
       "      <td>Peppy</td>\n",
       "      <td>Anteater</td>\n",
       "      <td>Female</td>\n",
       "      <td>Fashion</td>\n",
       "    </tr>\n",
       "    <tr>\n",
       "      <th>3</th>\n",
       "      <td>4</td>\n",
       "      <td>Anabelle</td>\n",
       "      <td>Peppy</td>\n",
       "      <td>Anteater</td>\n",
       "      <td>Female</td>\n",
       "      <td>Fashion</td>\n",
       "    </tr>\n",
       "    <tr>\n",
       "      <th>4</th>\n",
       "      <td>5</td>\n",
       "      <td>Snooty</td>\n",
       "      <td>Snooty</td>\n",
       "      <td>Anteater</td>\n",
       "      <td>Female</td>\n",
       "      <td>Education</td>\n",
       "    </tr>\n",
       "    <tr>\n",
       "      <th>5</th>\n",
       "      <td>6</td>\n",
       "      <td>Annalisa</td>\n",
       "      <td>Normal</td>\n",
       "      <td>Anteater</td>\n",
       "      <td>Female</td>\n",
       "      <td>Nature</td>\n",
       "    </tr>\n",
       "    <tr>\n",
       "      <th>6</th>\n",
       "      <td>7</td>\n",
       "      <td>Olaf</td>\n",
       "      <td>Smug</td>\n",
       "      <td>Anteater</td>\n",
       "      <td>Male</td>\n",
       "      <td>Education</td>\n",
       "    </tr>\n",
       "    <tr>\n",
       "      <th>7</th>\n",
       "      <td>8</td>\n",
       "      <td>Teddy</td>\n",
       "      <td>Jock</td>\n",
       "      <td>Bear</td>\n",
       "      <td>Male</td>\n",
       "      <td>Fitness</td>\n",
       "    </tr>\n",
       "    <tr>\n",
       "      <th>8</th>\n",
       "      <td>9</td>\n",
       "      <td>Pinky</td>\n",
       "      <td>Peppy</td>\n",
       "      <td>Bear</td>\n",
       "      <td>Female</td>\n",
       "      <td>Fashion</td>\n",
       "    </tr>\n",
       "    <tr>\n",
       "      <th>9</th>\n",
       "      <td>10</td>\n",
       "      <td>Curt</td>\n",
       "      <td>Cranky</td>\n",
       "      <td>Bear</td>\n",
       "      <td>Male</td>\n",
       "      <td>Nature</td>\n",
       "    </tr>\n",
       "    <tr>\n",
       "      <th>10</th>\n",
       "      <td>11</td>\n",
       "      <td>Chow</td>\n",
       "      <td>Cranky</td>\n",
       "      <td>Bear</td>\n",
       "      <td>Male</td>\n",
       "      <td>Fitness</td>\n",
       "    </tr>\n",
       "    <tr>\n",
       "      <th>11</th>\n",
       "      <td>12</td>\n",
       "      <td>Nate</td>\n",
       "      <td>Lazy</td>\n",
       "      <td>Bear</td>\n",
       "      <td>Male</td>\n",
       "      <td>Play</td>\n",
       "    </tr>\n",
       "    <tr>\n",
       "      <th>12</th>\n",
       "      <td>13</td>\n",
       "      <td>Groucho</td>\n",
       "      <td>Cranky</td>\n",
       "      <td>Bear</td>\n",
       "      <td>Male</td>\n",
       "      <td>Music</td>\n",
       "    </tr>\n",
       "    <tr>\n",
       "      <th>13</th>\n",
       "      <td>14</td>\n",
       "      <td>Tutu</td>\n",
       "      <td>Peppy</td>\n",
       "      <td>Bear</td>\n",
       "      <td>Female</td>\n",
       "      <td>Fashion</td>\n",
       "    </tr>\n",
       "    <tr>\n",
       "      <th>14</th>\n",
       "      <td>15</td>\n",
       "      <td>Ursala</td>\n",
       "      <td>Uchi</td>\n",
       "      <td>Bear</td>\n",
       "      <td>Female</td>\n",
       "      <td>Music</td>\n",
       "    </tr>\n",
       "  </tbody>\n",
       "</table>\n",
       "</div>"
      ],
      "text/plain": [
       "    Id      Name Personality   Species  Gender      Hobby\n",
       "0    1    Cyrano      Cranky  Anteater    Male  Education\n",
       "1    2   Antonio        Jock  Anteater    Male    Fitness\n",
       "2    3     Pango       Peppy  Anteater  Female    Fashion\n",
       "3    4  Anabelle       Peppy  Anteater  Female    Fashion\n",
       "4    5    Snooty      Snooty  Anteater  Female  Education\n",
       "5    6  Annalisa      Normal  Anteater  Female     Nature\n",
       "6    7      Olaf        Smug  Anteater    Male  Education\n",
       "7    8     Teddy        Jock      Bear    Male    Fitness\n",
       "8    9     Pinky       Peppy      Bear  Female    Fashion\n",
       "9   10      Curt      Cranky      Bear    Male     Nature\n",
       "10  11      Chow      Cranky      Bear    Male    Fitness\n",
       "11  12      Nate        Lazy      Bear    Male       Play\n",
       "12  13   Groucho      Cranky      Bear    Male      Music\n",
       "13  14      Tutu       Peppy      Bear  Female    Fashion\n",
       "14  15    Ursala        Uchi      Bear  Female      Music"
      ]
     },
     "execution_count": 12,
     "metadata": {},
     "output_type": "execute_result"
    }
   ],
   "source": [
    "# rename 'Name.name-USen' column to 'Name' in villagers data\n",
    "villagers = villagers.rename(columns={'Name.Name-Usen': 'Name'})\n",
    "\n",
    "# display the first 15 rows to verify\n",
    "villagers.head(15)"
   ]
  },
  {
   "cell_type": "code",
   "execution_count": 13,
   "id": "70e72015",
   "metadata": {},
   "outputs": [
    {
     "data": {
      "text/html": [
       "<div>\n",
       "<style scoped>\n",
       "    .dataframe tbody tr th:only-of-type {\n",
       "        vertical-align: middle;\n",
       "    }\n",
       "\n",
       "    .dataframe tbody tr th {\n",
       "        vertical-align: top;\n",
       "    }\n",
       "\n",
       "    .dataframe thead th {\n",
       "        text-align: right;\n",
       "    }\n",
       "</style>\n",
       "<table border=\"1\" class=\"dataframe\">\n",
       "  <thead>\n",
       "    <tr style=\"text-align: right;\">\n",
       "      <th></th>\n",
       "      <th>Id</th>\n",
       "      <th>Name</th>\n",
       "      <th>Personality</th>\n",
       "      <th>Species</th>\n",
       "      <th>Gender</th>\n",
       "      <th>Hobby</th>\n",
       "    </tr>\n",
       "  </thead>\n",
       "  <tbody>\n",
       "    <tr>\n",
       "      <th>0</th>\n",
       "      <td>1</td>\n",
       "      <td>Cyrano</td>\n",
       "      <td>Cranky</td>\n",
       "      <td>Anteater</td>\n",
       "      <td>Male</td>\n",
       "      <td>Education</td>\n",
       "    </tr>\n",
       "    <tr>\n",
       "      <th>1</th>\n",
       "      <td>2</td>\n",
       "      <td>Antonio</td>\n",
       "      <td>Jock</td>\n",
       "      <td>Anteater</td>\n",
       "      <td>Male</td>\n",
       "      <td>Fitness</td>\n",
       "    </tr>\n",
       "    <tr>\n",
       "      <th>2</th>\n",
       "      <td>3</td>\n",
       "      <td>Pango</td>\n",
       "      <td>Peppy</td>\n",
       "      <td>Anteater</td>\n",
       "      <td>Female</td>\n",
       "      <td>Fashion</td>\n",
       "    </tr>\n",
       "    <tr>\n",
       "      <th>3</th>\n",
       "      <td>4</td>\n",
       "      <td>Anabelle</td>\n",
       "      <td>Peppy</td>\n",
       "      <td>Anteater</td>\n",
       "      <td>Female</td>\n",
       "      <td>Fashion</td>\n",
       "    </tr>\n",
       "    <tr>\n",
       "      <th>4</th>\n",
       "      <td>5</td>\n",
       "      <td>Snooty</td>\n",
       "      <td>Snooty</td>\n",
       "      <td>Anteater</td>\n",
       "      <td>Female</td>\n",
       "      <td>Education</td>\n",
       "    </tr>\n",
       "    <tr>\n",
       "      <th>5</th>\n",
       "      <td>6</td>\n",
       "      <td>Annalisa</td>\n",
       "      <td>Normal</td>\n",
       "      <td>Anteater</td>\n",
       "      <td>Female</td>\n",
       "      <td>Nature</td>\n",
       "    </tr>\n",
       "    <tr>\n",
       "      <th>6</th>\n",
       "      <td>7</td>\n",
       "      <td>Olaf</td>\n",
       "      <td>Smug</td>\n",
       "      <td>Anteater</td>\n",
       "      <td>Male</td>\n",
       "      <td>Education</td>\n",
       "    </tr>\n",
       "    <tr>\n",
       "      <th>7</th>\n",
       "      <td>8</td>\n",
       "      <td>Teddy</td>\n",
       "      <td>Jock</td>\n",
       "      <td>Bear</td>\n",
       "      <td>Male</td>\n",
       "      <td>Fitness</td>\n",
       "    </tr>\n",
       "    <tr>\n",
       "      <th>8</th>\n",
       "      <td>9</td>\n",
       "      <td>Pinky</td>\n",
       "      <td>Peppy</td>\n",
       "      <td>Bear</td>\n",
       "      <td>Female</td>\n",
       "      <td>Fashion</td>\n",
       "    </tr>\n",
       "    <tr>\n",
       "      <th>9</th>\n",
       "      <td>10</td>\n",
       "      <td>Curt</td>\n",
       "      <td>Cranky</td>\n",
       "      <td>Bear</td>\n",
       "      <td>Male</td>\n",
       "      <td>Nature</td>\n",
       "    </tr>\n",
       "    <tr>\n",
       "      <th>10</th>\n",
       "      <td>11</td>\n",
       "      <td>Chow</td>\n",
       "      <td>Cranky</td>\n",
       "      <td>Bear</td>\n",
       "      <td>Male</td>\n",
       "      <td>Fitness</td>\n",
       "    </tr>\n",
       "    <tr>\n",
       "      <th>11</th>\n",
       "      <td>12</td>\n",
       "      <td>Nate</td>\n",
       "      <td>Lazy</td>\n",
       "      <td>Bear</td>\n",
       "      <td>Male</td>\n",
       "      <td>Play</td>\n",
       "    </tr>\n",
       "    <tr>\n",
       "      <th>12</th>\n",
       "      <td>13</td>\n",
       "      <td>Groucho</td>\n",
       "      <td>Cranky</td>\n",
       "      <td>Bear</td>\n",
       "      <td>Male</td>\n",
       "      <td>Music</td>\n",
       "    </tr>\n",
       "    <tr>\n",
       "      <th>13</th>\n",
       "      <td>14</td>\n",
       "      <td>Tutu</td>\n",
       "      <td>Peppy</td>\n",
       "      <td>Bear</td>\n",
       "      <td>Female</td>\n",
       "      <td>Fashion</td>\n",
       "    </tr>\n",
       "    <tr>\n",
       "      <th>14</th>\n",
       "      <td>15</td>\n",
       "      <td>Ursala</td>\n",
       "      <td>Big sister</td>\n",
       "      <td>Bear</td>\n",
       "      <td>Female</td>\n",
       "      <td>Music</td>\n",
       "    </tr>\n",
       "  </tbody>\n",
       "</table>\n",
       "</div>"
      ],
      "text/plain": [
       "    Id      Name Personality   Species  Gender      Hobby\n",
       "0    1    Cyrano      Cranky  Anteater    Male  Education\n",
       "1    2   Antonio        Jock  Anteater    Male    Fitness\n",
       "2    3     Pango       Peppy  Anteater  Female    Fashion\n",
       "3    4  Anabelle       Peppy  Anteater  Female    Fashion\n",
       "4    5    Snooty      Snooty  Anteater  Female  Education\n",
       "5    6  Annalisa      Normal  Anteater  Female     Nature\n",
       "6    7      Olaf        Smug  Anteater    Male  Education\n",
       "7    8     Teddy        Jock      Bear    Male    Fitness\n",
       "8    9     Pinky       Peppy      Bear  Female    Fashion\n",
       "9   10      Curt      Cranky      Bear    Male     Nature\n",
       "10  11      Chow      Cranky      Bear    Male    Fitness\n",
       "11  12      Nate        Lazy      Bear    Male       Play\n",
       "12  13   Groucho      Cranky      Bear    Male      Music\n",
       "13  14      Tutu       Peppy      Bear  Female    Fashion\n",
       "14  15    Ursala  Big sister      Bear  Female      Music"
      ]
     },
     "execution_count": 13,
     "metadata": {},
     "output_type": "execute_result"
    }
   ],
   "source": [
    "# replace the term 'Uchi' with 'Big sister' in the 'Personality' column \n",
    "villagers['Personality'] = villagers['Personality'].replace('Uchi', 'Big sister')\n",
    "\n",
    "# display the first 15 rows to verify\n",
    "villagers.head(15)"
   ]
  },
  {
   "cell_type": "code",
   "execution_count": 14,
   "id": "d899024a",
   "metadata": {},
   "outputs": [
    {
     "name": "stdout",
     "output_type": "stream",
     "text": [
      "<class 'pandas.core.frame.DataFrame'>\n",
      "RangeIndex: 391 entries, 0 to 390\n",
      "Data columns (total 6 columns):\n",
      " #   Column       Non-Null Count  Dtype \n",
      "---  ------       --------------  ----- \n",
      " 0   Id           391 non-null    int64 \n",
      " 1   Name         391 non-null    object\n",
      " 2   Personality  391 non-null    object\n",
      " 3   Species      391 non-null    object\n",
      " 4   Gender       391 non-null    object\n",
      " 5   Hobby        391 non-null    object\n",
      "dtypes: int64(1), object(5)\n",
      "memory usage: 18.5+ KB\n"
     ]
    }
   ],
   "source": [
    "# display the summary of the villagers dataframe\n",
    "villagers.info()"
   ]
  },
  {
   "cell_type": "markdown",
   "id": "cce1f6c9",
   "metadata": {},
   "source": [
    "### Popularity\n",
    "\n",
    "Then, the popularity dataframe will be cleaned by converting column names to title case for consistency."
   ]
  },
  {
   "cell_type": "code",
   "execution_count": 15,
   "id": "13dfae75",
   "metadata": {},
   "outputs": [
    {
     "data": {
      "text/html": [
       "<div>\n",
       "<style scoped>\n",
       "    .dataframe tbody tr th:only-of-type {\n",
       "        vertical-align: middle;\n",
       "    }\n",
       "\n",
       "    .dataframe tbody tr th {\n",
       "        vertical-align: top;\n",
       "    }\n",
       "\n",
       "    .dataframe thead th {\n",
       "        text-align: right;\n",
       "    }\n",
       "</style>\n",
       "<table border=\"1\" class=\"dataframe\">\n",
       "  <thead>\n",
       "    <tr style=\"text-align: right;\">\n",
       "      <th></th>\n",
       "      <th>Tier</th>\n",
       "      <th>Rank</th>\n",
       "      <th>Name</th>\n",
       "    </tr>\n",
       "  </thead>\n",
       "  <tbody>\n",
       "    <tr>\n",
       "      <th>0</th>\n",
       "      <td>1</td>\n",
       "      <td>1</td>\n",
       "      <td>Raymond</td>\n",
       "    </tr>\n",
       "    <tr>\n",
       "      <th>1</th>\n",
       "      <td>1</td>\n",
       "      <td>2</td>\n",
       "      <td>Marshal</td>\n",
       "    </tr>\n",
       "    <tr>\n",
       "      <th>2</th>\n",
       "      <td>1</td>\n",
       "      <td>3</td>\n",
       "      <td>Shino</td>\n",
       "    </tr>\n",
       "    <tr>\n",
       "      <th>3</th>\n",
       "      <td>1</td>\n",
       "      <td>4</td>\n",
       "      <td>Sherb</td>\n",
       "    </tr>\n",
       "    <tr>\n",
       "      <th>4</th>\n",
       "      <td>1</td>\n",
       "      <td>5</td>\n",
       "      <td>Sasha</td>\n",
       "    </tr>\n",
       "  </tbody>\n",
       "</table>\n",
       "</div>"
      ],
      "text/plain": [
       "   Tier  Rank     Name\n",
       "0     1     1  Raymond\n",
       "1     1     2  Marshal\n",
       "2     1     3    Shino\n",
       "3     1     4    Sherb\n",
       "4     1     5    Sasha"
      ]
     },
     "execution_count": 15,
     "metadata": {},
     "output_type": "execute_result"
    }
   ],
   "source": [
    "# change all column names in popularity data to title case\n",
    "popularity.columns = popularity.columns.str.title()\n",
    "\n",
    "# display the first 15 rows to verify\n",
    "popularity.head()"
   ]
  },
  {
   "cell_type": "code",
   "execution_count": 16,
   "id": "1623339f",
   "metadata": {},
   "outputs": [
    {
     "name": "stdout",
     "output_type": "stream",
     "text": [
      "<class 'pandas.core.frame.DataFrame'>\n",
      "RangeIndex: 413 entries, 0 to 412\n",
      "Data columns (total 3 columns):\n",
      " #   Column  Non-Null Count  Dtype \n",
      "---  ------  --------------  ----- \n",
      " 0   Tier    413 non-null    int64 \n",
      " 1   Rank    413 non-null    int64 \n",
      " 2   Name    413 non-null    object\n",
      "dtypes: int64(2), object(1)\n",
      "memory usage: 9.8+ KB\n"
     ]
    }
   ],
   "source": [
    "# display the summary of the popularity dataframe\n",
    "popularity.info()"
   ]
  },
  {
   "cell_type": "markdown",
   "id": "d26e411e",
   "metadata": {},
   "source": [
    "### Paradise planning\n",
    "\n",
    "The paradise planning data will be cleaned by examining the column names and removing any columns that are not relevant to our analysis."
   ]
  },
  {
   "cell_type": "code",
   "execution_count": 17,
   "id": "c0b85e29",
   "metadata": {},
   "outputs": [
    {
     "data": {
      "text/html": [
       "<div>\n",
       "<style scoped>\n",
       "    .dataframe tbody tr th:only-of-type {\n",
       "        vertical-align: middle;\n",
       "    }\n",
       "\n",
       "    .dataframe tbody tr th {\n",
       "        vertical-align: top;\n",
       "    }\n",
       "\n",
       "    .dataframe thead th {\n",
       "        text-align: right;\n",
       "    }\n",
       "</style>\n",
       "<table border=\"1\" class=\"dataframe\">\n",
       "  <thead>\n",
       "    <tr style=\"text-align: right;\">\n",
       "      <th></th>\n",
       "      <th>Name</th>\n",
       "      <th>Filename</th>\n",
       "      <th>Request</th>\n",
       "      <th>Thought bubble</th>\n",
       "      <th>Song</th>\n",
       "      <th>Furniture List</th>\n",
       "      <th>Furniture Name List</th>\n",
       "      <th>Unique Entry ID</th>\n",
       "    </tr>\n",
       "  </thead>\n",
       "  <tbody>\n",
       "    <tr>\n",
       "      <th>0</th>\n",
       "      <td>Ace</td>\n",
       "      <td>brd09</td>\n",
       "      <td>The Fishin' Hole</td>\n",
       "      <td>I want a place where I can fish to my heart's ...</td>\n",
       "      <td>To the Edge</td>\n",
       "      <td>3064;13637;13347</td>\n",
       "      <td>cooler box;outdoor folding chair;yacht</td>\n",
       "      <td>yrzvoz4kNmqN8N2pX</td>\n",
       "    </tr>\n",
       "    <tr>\n",
       "      <th>1</th>\n",
       "      <td>Admiral</td>\n",
       "      <td>brd06</td>\n",
       "      <td>Cool Country Cabin</td>\n",
       "      <td>I want a cool cabin where I can relax on hot d...</td>\n",
       "      <td>K.K. Rally</td>\n",
       "      <td>2736;2326;5979</td>\n",
       "      <td>retro fan;water pump;bamboo noodle slide</td>\n",
       "      <td>2dKeMSMjBLekssvwo</td>\n",
       "    </tr>\n",
       "    <tr>\n",
       "      <th>2</th>\n",
       "      <td>Agent S</td>\n",
       "      <td>squ05</td>\n",
       "      <td>Training Grounds for a Hero</td>\n",
       "      <td>Heroes train! It's what they do, even on vacat...</td>\n",
       "      <td>Go K.K. Rider</td>\n",
       "      <td>7653;4015;4078</td>\n",
       "      <td>speed bag;shower booth;barbell</td>\n",
       "      <td>EN7dGxBHogyTYD4pS</td>\n",
       "    </tr>\n",
       "    <tr>\n",
       "      <th>3</th>\n",
       "      <td>Agnes</td>\n",
       "      <td>pig17</td>\n",
       "      <td>The Artsiest Art Museum</td>\n",
       "      <td>I want a place that's like a museum with artsy...</td>\n",
       "      <td>K.K. Fugue</td>\n",
       "      <td>1712;13255;13302</td>\n",
       "      <td>poster stand;elaborate display case;decorative...</td>\n",
       "      <td>pmmgTrYA9hvoj2v9b</td>\n",
       "    </tr>\n",
       "    <tr>\n",
       "      <th>4</th>\n",
       "      <td>Al</td>\n",
       "      <td>gor08</td>\n",
       "      <td>Gymnastics School for Kids</td>\n",
       "      <td>My dream is to someday teach gymnastics to kids.</td>\n",
       "      <td>K.K. Étude</td>\n",
       "      <td>12701;13188;7845</td>\n",
       "      <td>school locker;ball catcher;pull-up-bar stand</td>\n",
       "      <td>XKm6cmQjf4eFAHMRT</td>\n",
       "    </tr>\n",
       "  </tbody>\n",
       "</table>\n",
       "</div>"
      ],
      "text/plain": [
       "      Name Filename                      Request  \\\n",
       "0      Ace    brd09             The Fishin' Hole   \n",
       "1  Admiral    brd06           Cool Country Cabin   \n",
       "2  Agent S    squ05  Training Grounds for a Hero   \n",
       "3    Agnes    pig17      The Artsiest Art Museum   \n",
       "4       Al    gor08   Gymnastics School for Kids   \n",
       "\n",
       "                                      Thought bubble           Song  \\\n",
       "0  I want a place where I can fish to my heart's ...    To the Edge   \n",
       "1  I want a cool cabin where I can relax on hot d...     K.K. Rally   \n",
       "2  Heroes train! It's what they do, even on vacat...  Go K.K. Rider   \n",
       "3  I want a place that's like a museum with artsy...     K.K. Fugue   \n",
       "4   My dream is to someday teach gymnastics to kids.     K.K. Étude   \n",
       "\n",
       "     Furniture List                                Furniture Name List  \\\n",
       "0  3064;13637;13347             cooler box;outdoor folding chair;yacht   \n",
       "1    2736;2326;5979           retro fan;water pump;bamboo noodle slide   \n",
       "2    7653;4015;4078                     speed bag;shower booth;barbell   \n",
       "3  1712;13255;13302  poster stand;elaborate display case;decorative...   \n",
       "4  12701;13188;7845       school locker;ball catcher;pull-up-bar stand   \n",
       "\n",
       "     Unique Entry ID  \n",
       "0  yrzvoz4kNmqN8N2pX  \n",
       "1  2dKeMSMjBLekssvwo  \n",
       "2  EN7dGxBHogyTYD4pS  \n",
       "3  pmmgTrYA9hvoj2v9b  \n",
       "4  XKm6cmQjf4eFAHMRT  "
      ]
     },
     "execution_count": 17,
     "metadata": {},
     "output_type": "execute_result"
    }
   ],
   "source": [
    "paradise.head()"
   ]
  },
  {
   "cell_type": "code",
   "execution_count": 18,
   "id": "5dec7236",
   "metadata": {},
   "outputs": [
    {
     "data": {
      "text/html": [
       "<div>\n",
       "<style scoped>\n",
       "    .dataframe tbody tr th:only-of-type {\n",
       "        vertical-align: middle;\n",
       "    }\n",
       "\n",
       "    .dataframe tbody tr th {\n",
       "        vertical-align: top;\n",
       "    }\n",
       "\n",
       "    .dataframe thead th {\n",
       "        text-align: right;\n",
       "    }\n",
       "</style>\n",
       "<table border=\"1\" class=\"dataframe\">\n",
       "  <thead>\n",
       "    <tr style=\"text-align: right;\">\n",
       "      <th></th>\n",
       "      <th>Name</th>\n",
       "      <th>Request</th>\n",
       "      <th>Song</th>\n",
       "    </tr>\n",
       "  </thead>\n",
       "  <tbody>\n",
       "    <tr>\n",
       "      <th>0</th>\n",
       "      <td>Ace</td>\n",
       "      <td>The Fishin' Hole</td>\n",
       "      <td>To the Edge</td>\n",
       "    </tr>\n",
       "    <tr>\n",
       "      <th>1</th>\n",
       "      <td>Admiral</td>\n",
       "      <td>Cool Country Cabin</td>\n",
       "      <td>K.K. Rally</td>\n",
       "    </tr>\n",
       "    <tr>\n",
       "      <th>2</th>\n",
       "      <td>Agent S</td>\n",
       "      <td>Training Grounds for a Hero</td>\n",
       "      <td>Go K.K. Rider</td>\n",
       "    </tr>\n",
       "    <tr>\n",
       "      <th>3</th>\n",
       "      <td>Agnes</td>\n",
       "      <td>The Artsiest Art Museum</td>\n",
       "      <td>K.K. Fugue</td>\n",
       "    </tr>\n",
       "    <tr>\n",
       "      <th>4</th>\n",
       "      <td>Al</td>\n",
       "      <td>Gymnastics School for Kids</td>\n",
       "      <td>K.K. Étude</td>\n",
       "    </tr>\n",
       "  </tbody>\n",
       "</table>\n",
       "</div>"
      ],
      "text/plain": [
       "      Name                      Request           Song\n",
       "0      Ace             The Fishin' Hole    To the Edge\n",
       "1  Admiral           Cool Country Cabin     K.K. Rally\n",
       "2  Agent S  Training Grounds for a Hero  Go K.K. Rider\n",
       "3    Agnes      The Artsiest Art Museum     K.K. Fugue\n",
       "4       Al   Gymnastics School for Kids     K.K. Étude"
      ]
     },
     "execution_count": 18,
     "metadata": {},
     "output_type": "execute_result"
    }
   ],
   "source": [
    "# DROP UNNEEDED COLUMNS IN PARADISE DATAFRAME\n",
    "# drop the columns from the villagers dataframe\n",
    "paradise = paradise.drop(columns=['Filename', 'Thought bubble','Furniture List', 'Furniture Name List', 'Unique Entry ID'])\n",
    "\n",
    "# display the first five rows to verify the columns were dropped\n",
    "paradise.head()"
   ]
  },
  {
   "cell_type": "code",
   "execution_count": 19,
   "id": "c2350e67",
   "metadata": {},
   "outputs": [
    {
     "name": "stdout",
     "output_type": "stream",
     "text": [
      "<class 'pandas.core.frame.DataFrame'>\n",
      "RangeIndex: 413 entries, 0 to 412\n",
      "Data columns (total 3 columns):\n",
      " #   Column   Non-Null Count  Dtype \n",
      "---  ------   --------------  ----- \n",
      " 0   Name     413 non-null    object\n",
      " 1   Request  413 non-null    object\n",
      " 2   Song     413 non-null    object\n",
      "dtypes: object(3)\n",
      "memory usage: 9.8+ KB\n"
     ]
    }
   ],
   "source": [
    "# display the summary of the paradise dataframe\n",
    "paradise.info()"
   ]
  },
  {
   "cell_type": "markdown",
   "id": "320552da",
   "metadata": {},
   "source": [
    "### Data Consistency\n",
    "\n",
    "In this section, we will ensure that the villager names across all dataframes are consistent, which is necessary for the subsequent merging of the dataframes. The steps involved are as follows:\n",
    "\n",
    "1. Identifying and resolving discrepancies in villager names across the dataframes. \n",
    "2. Removing entries for villagers that are not present in all dataframes. "
   ]
  },
  {
   "cell_type": "code",
   "execution_count": 20,
   "id": "2521ed45",
   "metadata": {},
   "outputs": [
    {
     "data": {
      "text/plain": [
       "386"
      ]
     },
     "execution_count": 20,
     "metadata": {},
     "output_type": "execute_result"
    }
   ],
   "source": [
    "# count the number of names in the villagers dataframe that are also present in the popularity dataframe\n",
    "villagers['Name'].isin(popularity['Name']).sum()"
   ]
  },
  {
   "cell_type": "markdown",
   "id": "7ae16770",
   "metadata": {},
   "source": [
    "There are 391 entries in the villagers dataframe. Since only 386 names are present in both the villagers dataframe and the popularity dataframe, there are 5 that don't match. Those five names can be adjusted to match exactly. "
   ]
  },
  {
   "cell_type": "code",
   "execution_count": 21,
   "id": "ec4705fd",
   "metadata": {},
   "outputs": [
    {
     "data": {
      "text/plain": [
       "159    Wart Jr.\n",
       "204        Buck\n",
       "306       Spork\n",
       "331      O'Hare\n",
       "341       Renée\n",
       "Name: Name, dtype: object"
      ]
     },
     "execution_count": 21,
     "metadata": {},
     "output_type": "execute_result"
    }
   ],
   "source": [
    "# find names in villagers dataframe that are not in popularity dataframe\n",
    "mismatched_names_villagers = villagers[~villagers['Name'].isin(popularity['Name'])]['Name']\n",
    "mismatched_names_villagers"
   ]
  },
  {
   "cell_type": "code",
   "execution_count": 22,
   "id": "bbdd7428",
   "metadata": {},
   "outputs": [
    {
     "data": {
      "text/plain": [
       "2               Shino\n",
       "4               Sasha\n",
       "5                Ione\n",
       "25         Cephalobot\n",
       "57             Étoile\n",
       "84          Tiansheng\n",
       "105             Petri\n",
       "108             Quinn\n",
       "114             Marlo\n",
       "116              Chai\n",
       "146            Azalea\n",
       "158             Faith\n",
       "170          Chabwick\n",
       "202            WartJr\n",
       "212               Rio\n",
       "216       Buck(Brows)\n",
       "222             Renee\n",
       "224           Chelsea\n",
       "226             Marty\n",
       "229           Roswell\n",
       "261               Zoe\n",
       "287             OHare\n",
       "300    Crackle(Spork)\n",
       "323               Ace\n",
       "328              Toby\n",
       "341             Frett\n",
       "399             Rilla\n",
       "Name: Name, dtype: object"
      ]
     },
     "execution_count": 22,
     "metadata": {},
     "output_type": "execute_result"
    }
   ],
   "source": [
    "# find names in popularity dataframe that are not in villagers dataframe\n",
    "mismatched_names_popularity = popularity[~popularity['Name'].isin(villagers['Name'])]['Name']\n",
    "mismatched_names_popularity"
   ]
  },
  {
   "cell_type": "code",
   "execution_count": 23,
   "id": "70464992",
   "metadata": {},
   "outputs": [],
   "source": [
    "# change names in popularity dataframe to match names in villagers dataframe\n",
    "popularity['Name'] = popularity['Name'].replace(['WartJr'],\"Wart Jr.\")\n",
    "popularity['Name'] = popularity['Name'].replace(['Buck(Brows)'],\"Buck\")\n",
    "popularity['Name'] = popularity['Name'].replace(['Crackle(Spork)'],\"Spork\")\n",
    "popularity['Name'] = popularity['Name'].replace(['OHare'],\"O\\'Hare\")\n",
    "popularity['Name'] = popularity['Name'].replace(['Renee'],\"Renée\")"
   ]
  },
  {
   "cell_type": "markdown",
   "id": "2658203a",
   "metadata": {},
   "source": [
    "There are 391 entries in the villagers dataframe and 413 in the popularity dataframe. We will remove the names in the popularity dataframe that aren't in the villagers dataframe to fascilitate merging. "
   ]
  },
  {
   "cell_type": "code",
   "execution_count": 24,
   "id": "b7069bc4",
   "metadata": {},
   "outputs": [
    {
     "name": "stdout",
     "output_type": "stream",
     "text": [
      "<class 'pandas.core.frame.DataFrame'>\n",
      "Int64Index: 391 entries, 0 to 412\n",
      "Data columns (total 3 columns):\n",
      " #   Column  Non-Null Count  Dtype \n",
      "---  ------  --------------  ----- \n",
      " 0   Tier    391 non-null    int64 \n",
      " 1   Rank    391 non-null    int64 \n",
      " 2   Name    391 non-null    object\n",
      "dtypes: int64(2), object(1)\n",
      "memory usage: 12.2+ KB\n"
     ]
    }
   ],
   "source": [
    "# keep only rows in popularity where the Name is also present in villagers\n",
    "popularity = popularity[popularity['Name'].isin(villagers['Name'])]\n",
    "\n",
    "#check number of remaining rows to see if it matches villagers(391)\n",
    "popularity.info()"
   ]
  },
  {
   "cell_type": "code",
   "execution_count": 25,
   "id": "a3f708a3",
   "metadata": {},
   "outputs": [
    {
     "data": {
      "text/plain": [
       "391"
      ]
     },
     "execution_count": 25,
     "metadata": {},
     "output_type": "execute_result"
    }
   ],
   "source": [
    "# count the number of names in the villagers dataframe that are also present in the paradise dataframe\n",
    "villagers['Name'].isin(paradise['Name']).sum()"
   ]
  },
  {
   "cell_type": "markdown",
   "id": "aab02472",
   "metadata": {},
   "source": [
    "There are no names in the villagers dataframe that are not also present in the paradise dataframe. \n",
    "We'll check how many names in the paradise dataframe don't match those in the villagers dataframe."
   ]
  },
  {
   "cell_type": "code",
   "execution_count": 26,
   "id": "bf32b660",
   "metadata": {},
   "outputs": [
    {
     "data": {
      "text/plain": [
       "22"
      ]
     },
     "execution_count": 26,
     "metadata": {},
     "output_type": "execute_result"
    }
   ],
   "source": [
    "# Check which names in the paradise dataframe are not in the villagers dataframe\n",
    "not_in_villagers = ~paradise['Name'].isin(villagers['Name'])\n",
    "\n",
    "# Count the number of such rows\n",
    "num_not_in_villagers = not_in_villagers.sum()\n",
    "\n",
    "num_not_in_villagers"
   ]
  },
  {
   "cell_type": "markdown",
   "id": "817d33aa",
   "metadata": {},
   "source": [
    "We'll remove the names in the paradise dataframe that are not present in the villagers dataframe to faciliate merging."
   ]
  },
  {
   "cell_type": "code",
   "execution_count": 27,
   "id": "dc853e49",
   "metadata": {},
   "outputs": [
    {
     "name": "stdout",
     "output_type": "stream",
     "text": [
      "<class 'pandas.core.frame.DataFrame'>\n",
      "Int64Index: 391 entries, 1 to 412\n",
      "Data columns (total 3 columns):\n",
      " #   Column   Non-Null Count  Dtype \n",
      "---  ------   --------------  ----- \n",
      " 0   Name     391 non-null    object\n",
      " 1   Request  391 non-null    object\n",
      " 2   Song     391 non-null    object\n",
      "dtypes: object(3)\n",
      "memory usage: 12.2+ KB\n"
     ]
    }
   ],
   "source": [
    "# keep only rows in paradise dataframe where the Name is also present in villagers\n",
    "paradise = paradise[paradise['Name'].isin(villagers['Name'])]\n",
    "\n",
    "#check number of remaining rows to see if it matches villagers(391)\n",
    "paradise.info()"
   ]
  },
  {
   "cell_type": "markdown",
   "id": "101fa7cb",
   "metadata": {},
   "source": [
    "## Merge"
   ]
  },
  {
   "cell_type": "code",
   "execution_count": 28,
   "id": "b5999d98",
   "metadata": {},
   "outputs": [
    {
     "data": {
      "text/html": [
       "<div>\n",
       "<style scoped>\n",
       "    .dataframe tbody tr th:only-of-type {\n",
       "        vertical-align: middle;\n",
       "    }\n",
       "\n",
       "    .dataframe tbody tr th {\n",
       "        vertical-align: top;\n",
       "    }\n",
       "\n",
       "    .dataframe thead th {\n",
       "        text-align: right;\n",
       "    }\n",
       "</style>\n",
       "<table border=\"1\" class=\"dataframe\">\n",
       "  <thead>\n",
       "    <tr style=\"text-align: right;\">\n",
       "      <th></th>\n",
       "      <th>Id</th>\n",
       "      <th>Name</th>\n",
       "      <th>Personality</th>\n",
       "      <th>Species</th>\n",
       "      <th>Gender</th>\n",
       "      <th>Hobby</th>\n",
       "      <th>Tier</th>\n",
       "      <th>Rank</th>\n",
       "    </tr>\n",
       "  </thead>\n",
       "  <tbody>\n",
       "    <tr>\n",
       "      <th>0</th>\n",
       "      <td>1</td>\n",
       "      <td>Cyrano</td>\n",
       "      <td>Cranky</td>\n",
       "      <td>Anteater</td>\n",
       "      <td>Male</td>\n",
       "      <td>Education</td>\n",
       "      <td>6</td>\n",
       "      <td>125</td>\n",
       "    </tr>\n",
       "    <tr>\n",
       "      <th>1</th>\n",
       "      <td>2</td>\n",
       "      <td>Antonio</td>\n",
       "      <td>Jock</td>\n",
       "      <td>Anteater</td>\n",
       "      <td>Male</td>\n",
       "      <td>Fitness</td>\n",
       "      <td>5</td>\n",
       "      <td>1</td>\n",
       "    </tr>\n",
       "    <tr>\n",
       "      <th>2</th>\n",
       "      <td>3</td>\n",
       "      <td>Pango</td>\n",
       "      <td>Peppy</td>\n",
       "      <td>Anteater</td>\n",
       "      <td>Female</td>\n",
       "      <td>Fashion</td>\n",
       "      <td>6</td>\n",
       "      <td>25</td>\n",
       "    </tr>\n",
       "    <tr>\n",
       "      <th>3</th>\n",
       "      <td>4</td>\n",
       "      <td>Anabelle</td>\n",
       "      <td>Peppy</td>\n",
       "      <td>Anteater</td>\n",
       "      <td>Female</td>\n",
       "      <td>Fashion</td>\n",
       "      <td>6</td>\n",
       "      <td>4</td>\n",
       "    </tr>\n",
       "    <tr>\n",
       "      <th>4</th>\n",
       "      <td>5</td>\n",
       "      <td>Snooty</td>\n",
       "      <td>Snooty</td>\n",
       "      <td>Anteater</td>\n",
       "      <td>Female</td>\n",
       "      <td>Education</td>\n",
       "      <td>6</td>\n",
       "      <td>103</td>\n",
       "    </tr>\n",
       "  </tbody>\n",
       "</table>\n",
       "</div>"
      ],
      "text/plain": [
       "   Id      Name Personality   Species  Gender      Hobby  Tier  Rank\n",
       "0   1    Cyrano      Cranky  Anteater    Male  Education     6   125\n",
       "1   2   Antonio        Jock  Anteater    Male    Fitness     5     1\n",
       "2   3     Pango       Peppy  Anteater  Female    Fashion     6    25\n",
       "3   4  Anabelle       Peppy  Anteater  Female    Fashion     6     4\n",
       "4   5    Snooty      Snooty  Anteater  Female  Education     6   103"
      ]
     },
     "execution_count": 28,
     "metadata": {},
     "output_type": "execute_result"
    }
   ],
   "source": [
    "# merge villagers dataframe and popularity dataframe on the column Name\n",
    "merged_df = villagers.merge(popularity, on='Name', how='inner')\n",
    "merged_df.head()"
   ]
  },
  {
   "cell_type": "code",
   "execution_count": 29,
   "id": "e6796c55",
   "metadata": {},
   "outputs": [
    {
     "data": {
      "text/html": [
       "<div>\n",
       "<style scoped>\n",
       "    .dataframe tbody tr th:only-of-type {\n",
       "        vertical-align: middle;\n",
       "    }\n",
       "\n",
       "    .dataframe tbody tr th {\n",
       "        vertical-align: top;\n",
       "    }\n",
       "\n",
       "    .dataframe thead th {\n",
       "        text-align: right;\n",
       "    }\n",
       "</style>\n",
       "<table border=\"1\" class=\"dataframe\">\n",
       "  <thead>\n",
       "    <tr style=\"text-align: right;\">\n",
       "      <th></th>\n",
       "      <th>Id</th>\n",
       "      <th>Name</th>\n",
       "      <th>Personality</th>\n",
       "      <th>Species</th>\n",
       "      <th>Gender</th>\n",
       "      <th>Hobby</th>\n",
       "      <th>Tier</th>\n",
       "      <th>Rank</th>\n",
       "      <th>Request</th>\n",
       "      <th>Song</th>\n",
       "    </tr>\n",
       "  </thead>\n",
       "  <tbody>\n",
       "    <tr>\n",
       "      <th>0</th>\n",
       "      <td>1</td>\n",
       "      <td>Cyrano</td>\n",
       "      <td>Cranky</td>\n",
       "      <td>Anteater</td>\n",
       "      <td>Male</td>\n",
       "      <td>Education</td>\n",
       "      <td>6</td>\n",
       "      <td>125</td>\n",
       "      <td>Construction Job Site</td>\n",
       "      <td>Agent K.K.</td>\n",
       "    </tr>\n",
       "    <tr>\n",
       "      <th>1</th>\n",
       "      <td>2</td>\n",
       "      <td>Antonio</td>\n",
       "      <td>Jock</td>\n",
       "      <td>Anteater</td>\n",
       "      <td>Male</td>\n",
       "      <td>Fitness</td>\n",
       "      <td>5</td>\n",
       "      <td>1</td>\n",
       "      <td>A Simple Stronghold</td>\n",
       "      <td>Space K.K.</td>\n",
       "    </tr>\n",
       "    <tr>\n",
       "      <th>2</th>\n",
       "      <td>3</td>\n",
       "      <td>Pango</td>\n",
       "      <td>Peppy</td>\n",
       "      <td>Anteater</td>\n",
       "      <td>Female</td>\n",
       "      <td>Fashion</td>\n",
       "      <td>6</td>\n",
       "      <td>25</td>\n",
       "      <td>Ultimate Beauty Salon</td>\n",
       "      <td>K.K. Oasis</td>\n",
       "    </tr>\n",
       "    <tr>\n",
       "      <th>3</th>\n",
       "      <td>4</td>\n",
       "      <td>Anabelle</td>\n",
       "      <td>Peppy</td>\n",
       "      <td>Anteater</td>\n",
       "      <td>Female</td>\n",
       "      <td>Fashion</td>\n",
       "      <td>6</td>\n",
       "      <td>4</td>\n",
       "      <td>Anabelle's Gathering Garden</td>\n",
       "      <td>K.K. Calypso</td>\n",
       "    </tr>\n",
       "    <tr>\n",
       "      <th>4</th>\n",
       "      <td>5</td>\n",
       "      <td>Snooty</td>\n",
       "      <td>Snooty</td>\n",
       "      <td>Anteater</td>\n",
       "      <td>Female</td>\n",
       "      <td>Education</td>\n",
       "      <td>6</td>\n",
       "      <td>103</td>\n",
       "      <td>Snooty's Indoor Swim Club</td>\n",
       "      <td>Aloha K.K.</td>\n",
       "    </tr>\n",
       "  </tbody>\n",
       "</table>\n",
       "</div>"
      ],
      "text/plain": [
       "   Id      Name Personality   Species  Gender      Hobby  Tier  Rank  \\\n",
       "0   1    Cyrano      Cranky  Anteater    Male  Education     6   125   \n",
       "1   2   Antonio        Jock  Anteater    Male    Fitness     5     1   \n",
       "2   3     Pango       Peppy  Anteater  Female    Fashion     6    25   \n",
       "3   4  Anabelle       Peppy  Anteater  Female    Fashion     6     4   \n",
       "4   5    Snooty      Snooty  Anteater  Female  Education     6   103   \n",
       "\n",
       "                       Request          Song  \n",
       "0        Construction Job Site    Agent K.K.  \n",
       "1          A Simple Stronghold    Space K.K.  \n",
       "2        Ultimate Beauty Salon    K.K. Oasis  \n",
       "3  Anabelle's Gathering Garden  K.K. Calypso  \n",
       "4    Snooty's Indoor Swim Club    Aloha K.K.  "
      ]
     },
     "execution_count": 29,
     "metadata": {},
     "output_type": "execute_result"
    }
   ],
   "source": [
    "# merge the merged dataframe and paradise dataframe on the column Name\n",
    "final_merged_df = merged_df.merge(paradise, on='Name', how='inner')\n",
    "final_merged_df.head()"
   ]
  },
  {
   "cell_type": "code",
   "execution_count": 30,
   "id": "1e5e72ba",
   "metadata": {},
   "outputs": [
    {
     "name": "stdout",
     "output_type": "stream",
     "text": [
      "<class 'pandas.core.frame.DataFrame'>\n",
      "Int64Index: 391 entries, 0 to 390\n",
      "Data columns (total 10 columns):\n",
      " #   Column       Non-Null Count  Dtype \n",
      "---  ------       --------------  ----- \n",
      " 0   Id           391 non-null    int64 \n",
      " 1   Name         391 non-null    object\n",
      " 2   Personality  391 non-null    object\n",
      " 3   Species      391 non-null    object\n",
      " 4   Gender       391 non-null    object\n",
      " 5   Hobby        391 non-null    object\n",
      " 6   Tier         391 non-null    int64 \n",
      " 7   Rank         391 non-null    int64 \n",
      " 8   Request      391 non-null    object\n",
      " 9   Song         391 non-null    object\n",
      "dtypes: int64(3), object(7)\n",
      "memory usage: 33.6+ KB\n"
     ]
    }
   ],
   "source": [
    "# display summary of merged dataframe\n",
    "final_merged_df.info()"
   ]
  },
  {
   "cell_type": "code",
   "execution_count": 31,
   "id": "51fab931",
   "metadata": {},
   "outputs": [
    {
     "data": {
      "text/plain": [
       "391"
      ]
     },
     "execution_count": 31,
     "metadata": {},
     "output_type": "execute_result"
    }
   ],
   "source": [
    "# check to make sure all the names are unique\n",
    "unique_names = final_merged_df['Name'].nunique()\n",
    "unique_names"
   ]
  },
  {
   "cell_type": "markdown",
   "id": "39b9e6e5",
   "metadata": {},
   "source": [
    "## Calculate new values"
   ]
  },
  {
   "cell_type": "markdown",
   "id": "b366c96f",
   "metadata": {},
   "source": [
    "### Overall ranking\n",
    "In this section, we'll sort the dataframe by the 'Tier' and 'Rank' columns and create a column for 'Overall_Ranking.' This will give each villager an overall ranking based on their position in the sorted dataframe."
   ]
  },
  {
   "cell_type": "code",
   "execution_count": 32,
   "id": "bf677ff5",
   "metadata": {},
   "outputs": [
    {
     "data": {
      "text/html": [
       "<div>\n",
       "<style scoped>\n",
       "    .dataframe tbody tr th:only-of-type {\n",
       "        vertical-align: middle;\n",
       "    }\n",
       "\n",
       "    .dataframe tbody tr th {\n",
       "        vertical-align: top;\n",
       "    }\n",
       "\n",
       "    .dataframe thead th {\n",
       "        text-align: right;\n",
       "    }\n",
       "</style>\n",
       "<table border=\"1\" class=\"dataframe\">\n",
       "  <thead>\n",
       "    <tr style=\"text-align: right;\">\n",
       "      <th></th>\n",
       "      <th>Id</th>\n",
       "      <th>Name</th>\n",
       "      <th>Personality</th>\n",
       "      <th>Species</th>\n",
       "      <th>Gender</th>\n",
       "      <th>Hobby</th>\n",
       "      <th>Tier</th>\n",
       "      <th>Rank</th>\n",
       "      <th>Request</th>\n",
       "      <th>Song</th>\n",
       "    </tr>\n",
       "  </thead>\n",
       "  <tbody>\n",
       "    <tr>\n",
       "      <th>63</th>\n",
       "      <td>64</td>\n",
       "      <td>Raymond</td>\n",
       "      <td>Smug</td>\n",
       "      <td>Cat</td>\n",
       "      <td>Male</td>\n",
       "      <td>Nature</td>\n",
       "      <td>1</td>\n",
       "      <td>1</td>\n",
       "      <td>A Home Tailored for Me</td>\n",
       "      <td>K.K. Break</td>\n",
       "    </tr>\n",
       "    <tr>\n",
       "      <th>371</th>\n",
       "      <td>372</td>\n",
       "      <td>Marshal</td>\n",
       "      <td>Smug</td>\n",
       "      <td>Squirrel</td>\n",
       "      <td>Male</td>\n",
       "      <td>Music</td>\n",
       "      <td>1</td>\n",
       "      <td>2</td>\n",
       "      <td>Retro Café Cabin</td>\n",
       "      <td>K.K. Swing</td>\n",
       "    </tr>\n",
       "    <tr>\n",
       "      <th>179</th>\n",
       "      <td>180</td>\n",
       "      <td>Sherb</td>\n",
       "      <td>Lazy</td>\n",
       "      <td>Goat</td>\n",
       "      <td>Male</td>\n",
       "      <td>Nature</td>\n",
       "      <td>1</td>\n",
       "      <td>4</td>\n",
       "      <td>My Fantasy Theme Park</td>\n",
       "      <td>My Place</td>\n",
       "    </tr>\n",
       "    <tr>\n",
       "      <th>60</th>\n",
       "      <td>61</td>\n",
       "      <td>Ankha</td>\n",
       "      <td>Snooty</td>\n",
       "      <td>Cat</td>\n",
       "      <td>Female</td>\n",
       "      <td>Nature</td>\n",
       "      <td>1</td>\n",
       "      <td>7</td>\n",
       "      <td>Ancient Oasis</td>\n",
       "      <td>K.K. Bazaar</td>\n",
       "    </tr>\n",
       "    <tr>\n",
       "      <th>268</th>\n",
       "      <td>269</td>\n",
       "      <td>Zucker</td>\n",
       "      <td>Lazy</td>\n",
       "      <td>Octopus</td>\n",
       "      <td>Male</td>\n",
       "      <td>Nature</td>\n",
       "      <td>1</td>\n",
       "      <td>8</td>\n",
       "      <td>Festival Grounds</td>\n",
       "      <td>Spring Blossoms</td>\n",
       "    </tr>\n",
       "    <tr>\n",
       "      <th>...</th>\n",
       "      <td>...</td>\n",
       "      <td>...</td>\n",
       "      <td>...</td>\n",
       "      <td>...</td>\n",
       "      <td>...</td>\n",
       "      <td>...</td>\n",
       "      <td>...</td>\n",
       "      <td>...</td>\n",
       "      <td>...</td>\n",
       "      <td>...</td>\n",
       "    </tr>\n",
       "    <tr>\n",
       "      <th>197</th>\n",
       "      <td>198</td>\n",
       "      <td>Rocco</td>\n",
       "      <td>Cranky</td>\n",
       "      <td>Hippo</td>\n",
       "      <td>Male</td>\n",
       "      <td>Education</td>\n",
       "      <td>6</td>\n",
       "      <td>159</td>\n",
       "      <td>Rocco's Danger Zone</td>\n",
       "      <td>Surfin' K.K.</td>\n",
       "    </tr>\n",
       "    <tr>\n",
       "      <th>262</th>\n",
       "      <td>263</td>\n",
       "      <td>Bettina</td>\n",
       "      <td>Normal</td>\n",
       "      <td>Mouse</td>\n",
       "      <td>Female</td>\n",
       "      <td>Education</td>\n",
       "      <td>6</td>\n",
       "      <td>160</td>\n",
       "      <td>A Peerless Patisserie</td>\n",
       "      <td>Café K.K.</td>\n",
       "    </tr>\n",
       "    <tr>\n",
       "      <th>308</th>\n",
       "      <td>309</td>\n",
       "      <td>Boris</td>\n",
       "      <td>Cranky</td>\n",
       "      <td>Pig</td>\n",
       "      <td>Male</td>\n",
       "      <td>Nature</td>\n",
       "      <td>6</td>\n",
       "      <td>161</td>\n",
       "      <td>A Music Producer's Home</td>\n",
       "      <td>K.K. Technopop</td>\n",
       "    </tr>\n",
       "    <tr>\n",
       "      <th>201</th>\n",
       "      <td>202</td>\n",
       "      <td>Bitty</td>\n",
       "      <td>Snooty</td>\n",
       "      <td>Hippo</td>\n",
       "      <td>Female</td>\n",
       "      <td>Education</td>\n",
       "      <td>6</td>\n",
       "      <td>162</td>\n",
       "      <td>My Fashion-Mag Office</td>\n",
       "      <td>K.K. Moody</td>\n",
       "    </tr>\n",
       "    <tr>\n",
       "      <th>176</th>\n",
       "      <td>177</td>\n",
       "      <td>Velma</td>\n",
       "      <td>Snooty</td>\n",
       "      <td>Goat</td>\n",
       "      <td>Female</td>\n",
       "      <td>Education</td>\n",
       "      <td>6</td>\n",
       "      <td>163</td>\n",
       "      <td>Velma's Schoolhouse</td>\n",
       "      <td>Mr. K.K.</td>\n",
       "    </tr>\n",
       "  </tbody>\n",
       "</table>\n",
       "<p>391 rows × 10 columns</p>\n",
       "</div>"
      ],
      "text/plain": [
       "      Id     Name Personality   Species  Gender      Hobby  Tier  Rank  \\\n",
       "63    64  Raymond        Smug       Cat    Male     Nature     1     1   \n",
       "371  372  Marshal        Smug  Squirrel    Male      Music     1     2   \n",
       "179  180    Sherb        Lazy      Goat    Male     Nature     1     4   \n",
       "60    61    Ankha      Snooty       Cat  Female     Nature     1     7   \n",
       "268  269   Zucker        Lazy   Octopus    Male     Nature     1     8   \n",
       "..   ...      ...         ...       ...     ...        ...   ...   ...   \n",
       "197  198    Rocco      Cranky     Hippo    Male  Education     6   159   \n",
       "262  263  Bettina      Normal     Mouse  Female  Education     6   160   \n",
       "308  309    Boris      Cranky       Pig    Male     Nature     6   161   \n",
       "201  202    Bitty      Snooty     Hippo  Female  Education     6   162   \n",
       "176  177    Velma      Snooty      Goat  Female  Education     6   163   \n",
       "\n",
       "                     Request             Song  \n",
       "63    A Home Tailored for Me       K.K. Break  \n",
       "371         Retro Café Cabin       K.K. Swing  \n",
       "179    My Fantasy Theme Park         My Place  \n",
       "60             Ancient Oasis      K.K. Bazaar  \n",
       "268         Festival Grounds  Spring Blossoms  \n",
       "..                       ...              ...  \n",
       "197      Rocco's Danger Zone     Surfin' K.K.  \n",
       "262    A Peerless Patisserie        Café K.K.  \n",
       "308  A Music Producer's Home   K.K. Technopop  \n",
       "201    My Fashion-Mag Office       K.K. Moody  \n",
       "176      Velma's Schoolhouse         Mr. K.K.  \n",
       "\n",
       "[391 rows x 10 columns]"
      ]
     },
     "execution_count": 32,
     "metadata": {},
     "output_type": "execute_result"
    }
   ],
   "source": [
    "# sort merged dataframe by the 'tier' and 'rank' columns\n",
    "final_merged_df.sort_values(['Tier', 'Rank'], inplace=True)\n",
    "final_merged_df"
   ]
  },
  {
   "cell_type": "code",
   "execution_count": 33,
   "id": "cc467f90",
   "metadata": {},
   "outputs": [
    {
     "data": {
      "text/html": [
       "<div>\n",
       "<style scoped>\n",
       "    .dataframe tbody tr th:only-of-type {\n",
       "        vertical-align: middle;\n",
       "    }\n",
       "\n",
       "    .dataframe tbody tr th {\n",
       "        vertical-align: top;\n",
       "    }\n",
       "\n",
       "    .dataframe thead th {\n",
       "        text-align: right;\n",
       "    }\n",
       "</style>\n",
       "<table border=\"1\" class=\"dataframe\">\n",
       "  <thead>\n",
       "    <tr style=\"text-align: right;\">\n",
       "      <th></th>\n",
       "      <th>Id</th>\n",
       "      <th>Name</th>\n",
       "      <th>Personality</th>\n",
       "      <th>Species</th>\n",
       "      <th>Gender</th>\n",
       "      <th>Hobby</th>\n",
       "      <th>Tier</th>\n",
       "      <th>Rank</th>\n",
       "      <th>Request</th>\n",
       "      <th>Song</th>\n",
       "      <th>Overall_Ranking</th>\n",
       "    </tr>\n",
       "  </thead>\n",
       "  <tbody>\n",
       "    <tr>\n",
       "      <th>63</th>\n",
       "      <td>64</td>\n",
       "      <td>Raymond</td>\n",
       "      <td>Smug</td>\n",
       "      <td>Cat</td>\n",
       "      <td>Male</td>\n",
       "      <td>Nature</td>\n",
       "      <td>1</td>\n",
       "      <td>1</td>\n",
       "      <td>A Home Tailored for Me</td>\n",
       "      <td>K.K. Break</td>\n",
       "      <td>1</td>\n",
       "    </tr>\n",
       "    <tr>\n",
       "      <th>371</th>\n",
       "      <td>372</td>\n",
       "      <td>Marshal</td>\n",
       "      <td>Smug</td>\n",
       "      <td>Squirrel</td>\n",
       "      <td>Male</td>\n",
       "      <td>Music</td>\n",
       "      <td>1</td>\n",
       "      <td>2</td>\n",
       "      <td>Retro Café Cabin</td>\n",
       "      <td>K.K. Swing</td>\n",
       "      <td>2</td>\n",
       "    </tr>\n",
       "    <tr>\n",
       "      <th>179</th>\n",
       "      <td>180</td>\n",
       "      <td>Sherb</td>\n",
       "      <td>Lazy</td>\n",
       "      <td>Goat</td>\n",
       "      <td>Male</td>\n",
       "      <td>Nature</td>\n",
       "      <td>1</td>\n",
       "      <td>4</td>\n",
       "      <td>My Fantasy Theme Park</td>\n",
       "      <td>My Place</td>\n",
       "      <td>3</td>\n",
       "    </tr>\n",
       "    <tr>\n",
       "      <th>60</th>\n",
       "      <td>61</td>\n",
       "      <td>Ankha</td>\n",
       "      <td>Snooty</td>\n",
       "      <td>Cat</td>\n",
       "      <td>Female</td>\n",
       "      <td>Nature</td>\n",
       "      <td>1</td>\n",
       "      <td>7</td>\n",
       "      <td>Ancient Oasis</td>\n",
       "      <td>K.K. Bazaar</td>\n",
       "      <td>4</td>\n",
       "    </tr>\n",
       "    <tr>\n",
       "      <th>268</th>\n",
       "      <td>269</td>\n",
       "      <td>Zucker</td>\n",
       "      <td>Lazy</td>\n",
       "      <td>Octopus</td>\n",
       "      <td>Male</td>\n",
       "      <td>Nature</td>\n",
       "      <td>1</td>\n",
       "      <td>8</td>\n",
       "      <td>Festival Grounds</td>\n",
       "      <td>Spring Blossoms</td>\n",
       "      <td>5</td>\n",
       "    </tr>\n",
       "    <tr>\n",
       "      <th>...</th>\n",
       "      <td>...</td>\n",
       "      <td>...</td>\n",
       "      <td>...</td>\n",
       "      <td>...</td>\n",
       "      <td>...</td>\n",
       "      <td>...</td>\n",
       "      <td>...</td>\n",
       "      <td>...</td>\n",
       "      <td>...</td>\n",
       "      <td>...</td>\n",
       "      <td>...</td>\n",
       "    </tr>\n",
       "    <tr>\n",
       "      <th>197</th>\n",
       "      <td>198</td>\n",
       "      <td>Rocco</td>\n",
       "      <td>Cranky</td>\n",
       "      <td>Hippo</td>\n",
       "      <td>Male</td>\n",
       "      <td>Education</td>\n",
       "      <td>6</td>\n",
       "      <td>159</td>\n",
       "      <td>Rocco's Danger Zone</td>\n",
       "      <td>Surfin' K.K.</td>\n",
       "      <td>387</td>\n",
       "    </tr>\n",
       "    <tr>\n",
       "      <th>262</th>\n",
       "      <td>263</td>\n",
       "      <td>Bettina</td>\n",
       "      <td>Normal</td>\n",
       "      <td>Mouse</td>\n",
       "      <td>Female</td>\n",
       "      <td>Education</td>\n",
       "      <td>6</td>\n",
       "      <td>160</td>\n",
       "      <td>A Peerless Patisserie</td>\n",
       "      <td>Café K.K.</td>\n",
       "      <td>388</td>\n",
       "    </tr>\n",
       "    <tr>\n",
       "      <th>308</th>\n",
       "      <td>309</td>\n",
       "      <td>Boris</td>\n",
       "      <td>Cranky</td>\n",
       "      <td>Pig</td>\n",
       "      <td>Male</td>\n",
       "      <td>Nature</td>\n",
       "      <td>6</td>\n",
       "      <td>161</td>\n",
       "      <td>A Music Producer's Home</td>\n",
       "      <td>K.K. Technopop</td>\n",
       "      <td>389</td>\n",
       "    </tr>\n",
       "    <tr>\n",
       "      <th>201</th>\n",
       "      <td>202</td>\n",
       "      <td>Bitty</td>\n",
       "      <td>Snooty</td>\n",
       "      <td>Hippo</td>\n",
       "      <td>Female</td>\n",
       "      <td>Education</td>\n",
       "      <td>6</td>\n",
       "      <td>162</td>\n",
       "      <td>My Fashion-Mag Office</td>\n",
       "      <td>K.K. Moody</td>\n",
       "      <td>390</td>\n",
       "    </tr>\n",
       "    <tr>\n",
       "      <th>176</th>\n",
       "      <td>177</td>\n",
       "      <td>Velma</td>\n",
       "      <td>Snooty</td>\n",
       "      <td>Goat</td>\n",
       "      <td>Female</td>\n",
       "      <td>Education</td>\n",
       "      <td>6</td>\n",
       "      <td>163</td>\n",
       "      <td>Velma's Schoolhouse</td>\n",
       "      <td>Mr. K.K.</td>\n",
       "      <td>391</td>\n",
       "    </tr>\n",
       "  </tbody>\n",
       "</table>\n",
       "<p>391 rows × 11 columns</p>\n",
       "</div>"
      ],
      "text/plain": [
       "      Id     Name Personality   Species  Gender      Hobby  Tier  Rank  \\\n",
       "63    64  Raymond        Smug       Cat    Male     Nature     1     1   \n",
       "371  372  Marshal        Smug  Squirrel    Male      Music     1     2   \n",
       "179  180    Sherb        Lazy      Goat    Male     Nature     1     4   \n",
       "60    61    Ankha      Snooty       Cat  Female     Nature     1     7   \n",
       "268  269   Zucker        Lazy   Octopus    Male     Nature     1     8   \n",
       "..   ...      ...         ...       ...     ...        ...   ...   ...   \n",
       "197  198    Rocco      Cranky     Hippo    Male  Education     6   159   \n",
       "262  263  Bettina      Normal     Mouse  Female  Education     6   160   \n",
       "308  309    Boris      Cranky       Pig    Male     Nature     6   161   \n",
       "201  202    Bitty      Snooty     Hippo  Female  Education     6   162   \n",
       "176  177    Velma      Snooty      Goat  Female  Education     6   163   \n",
       "\n",
       "                     Request             Song  Overall_Ranking  \n",
       "63    A Home Tailored for Me       K.K. Break                1  \n",
       "371         Retro Café Cabin       K.K. Swing                2  \n",
       "179    My Fantasy Theme Park         My Place                3  \n",
       "60             Ancient Oasis      K.K. Bazaar                4  \n",
       "268         Festival Grounds  Spring Blossoms                5  \n",
       "..                       ...              ...              ...  \n",
       "197      Rocco's Danger Zone     Surfin' K.K.              387  \n",
       "262    A Peerless Patisserie        Café K.K.              388  \n",
       "308  A Music Producer's Home   K.K. Technopop              389  \n",
       "201    My Fashion-Mag Office       K.K. Moody              390  \n",
       "176      Velma's Schoolhouse         Mr. K.K.              391  \n",
       "\n",
       "[391 rows x 11 columns]"
      ]
     },
     "execution_count": 33,
     "metadata": {},
     "output_type": "execute_result"
    }
   ],
   "source": [
    "# create new column called 'overall_ranking'\n",
    "final_merged_df['Overall_Ranking'] = np.arange(1, len(final_merged_df)+1)\n",
    "final_merged_df"
   ]
  },
  {
   "cell_type": "code",
   "execution_count": 34,
   "id": "873cee10",
   "metadata": {},
   "outputs": [
    {
     "data": {
      "text/html": [
       "<div>\n",
       "<style scoped>\n",
       "    .dataframe tbody tr th:only-of-type {\n",
       "        vertical-align: middle;\n",
       "    }\n",
       "\n",
       "    .dataframe tbody tr th {\n",
       "        vertical-align: top;\n",
       "    }\n",
       "\n",
       "    .dataframe thead th {\n",
       "        text-align: right;\n",
       "    }\n",
       "</style>\n",
       "<table border=\"1\" class=\"dataframe\">\n",
       "  <thead>\n",
       "    <tr style=\"text-align: right;\">\n",
       "      <th></th>\n",
       "      <th>Id</th>\n",
       "      <th>Name</th>\n",
       "      <th>Personality</th>\n",
       "      <th>Species</th>\n",
       "      <th>Gender</th>\n",
       "      <th>Hobby</th>\n",
       "      <th>Tier</th>\n",
       "      <th>Rank</th>\n",
       "      <th>Overall_Ranking</th>\n",
       "      <th>Request</th>\n",
       "      <th>Song</th>\n",
       "    </tr>\n",
       "  </thead>\n",
       "  <tbody>\n",
       "    <tr>\n",
       "      <th>63</th>\n",
       "      <td>64</td>\n",
       "      <td>Raymond</td>\n",
       "      <td>Smug</td>\n",
       "      <td>Cat</td>\n",
       "      <td>Male</td>\n",
       "      <td>Nature</td>\n",
       "      <td>1</td>\n",
       "      <td>1</td>\n",
       "      <td>1</td>\n",
       "      <td>A Home Tailored for Me</td>\n",
       "      <td>K.K. Break</td>\n",
       "    </tr>\n",
       "    <tr>\n",
       "      <th>371</th>\n",
       "      <td>372</td>\n",
       "      <td>Marshal</td>\n",
       "      <td>Smug</td>\n",
       "      <td>Squirrel</td>\n",
       "      <td>Male</td>\n",
       "      <td>Music</td>\n",
       "      <td>1</td>\n",
       "      <td>2</td>\n",
       "      <td>2</td>\n",
       "      <td>Retro Café Cabin</td>\n",
       "      <td>K.K. Swing</td>\n",
       "    </tr>\n",
       "    <tr>\n",
       "      <th>179</th>\n",
       "      <td>180</td>\n",
       "      <td>Sherb</td>\n",
       "      <td>Lazy</td>\n",
       "      <td>Goat</td>\n",
       "      <td>Male</td>\n",
       "      <td>Nature</td>\n",
       "      <td>1</td>\n",
       "      <td>4</td>\n",
       "      <td>3</td>\n",
       "      <td>My Fantasy Theme Park</td>\n",
       "      <td>My Place</td>\n",
       "    </tr>\n",
       "    <tr>\n",
       "      <th>60</th>\n",
       "      <td>61</td>\n",
       "      <td>Ankha</td>\n",
       "      <td>Snooty</td>\n",
       "      <td>Cat</td>\n",
       "      <td>Female</td>\n",
       "      <td>Nature</td>\n",
       "      <td>1</td>\n",
       "      <td>7</td>\n",
       "      <td>4</td>\n",
       "      <td>Ancient Oasis</td>\n",
       "      <td>K.K. Bazaar</td>\n",
       "    </tr>\n",
       "    <tr>\n",
       "      <th>268</th>\n",
       "      <td>269</td>\n",
       "      <td>Zucker</td>\n",
       "      <td>Lazy</td>\n",
       "      <td>Octopus</td>\n",
       "      <td>Male</td>\n",
       "      <td>Nature</td>\n",
       "      <td>1</td>\n",
       "      <td>8</td>\n",
       "      <td>5</td>\n",
       "      <td>Festival Grounds</td>\n",
       "      <td>Spring Blossoms</td>\n",
       "    </tr>\n",
       "    <tr>\n",
       "      <th>...</th>\n",
       "      <td>...</td>\n",
       "      <td>...</td>\n",
       "      <td>...</td>\n",
       "      <td>...</td>\n",
       "      <td>...</td>\n",
       "      <td>...</td>\n",
       "      <td>...</td>\n",
       "      <td>...</td>\n",
       "      <td>...</td>\n",
       "      <td>...</td>\n",
       "      <td>...</td>\n",
       "    </tr>\n",
       "    <tr>\n",
       "      <th>197</th>\n",
       "      <td>198</td>\n",
       "      <td>Rocco</td>\n",
       "      <td>Cranky</td>\n",
       "      <td>Hippo</td>\n",
       "      <td>Male</td>\n",
       "      <td>Education</td>\n",
       "      <td>6</td>\n",
       "      <td>159</td>\n",
       "      <td>387</td>\n",
       "      <td>Rocco's Danger Zone</td>\n",
       "      <td>Surfin' K.K.</td>\n",
       "    </tr>\n",
       "    <tr>\n",
       "      <th>262</th>\n",
       "      <td>263</td>\n",
       "      <td>Bettina</td>\n",
       "      <td>Normal</td>\n",
       "      <td>Mouse</td>\n",
       "      <td>Female</td>\n",
       "      <td>Education</td>\n",
       "      <td>6</td>\n",
       "      <td>160</td>\n",
       "      <td>388</td>\n",
       "      <td>A Peerless Patisserie</td>\n",
       "      <td>Café K.K.</td>\n",
       "    </tr>\n",
       "    <tr>\n",
       "      <th>308</th>\n",
       "      <td>309</td>\n",
       "      <td>Boris</td>\n",
       "      <td>Cranky</td>\n",
       "      <td>Pig</td>\n",
       "      <td>Male</td>\n",
       "      <td>Nature</td>\n",
       "      <td>6</td>\n",
       "      <td>161</td>\n",
       "      <td>389</td>\n",
       "      <td>A Music Producer's Home</td>\n",
       "      <td>K.K. Technopop</td>\n",
       "    </tr>\n",
       "    <tr>\n",
       "      <th>201</th>\n",
       "      <td>202</td>\n",
       "      <td>Bitty</td>\n",
       "      <td>Snooty</td>\n",
       "      <td>Hippo</td>\n",
       "      <td>Female</td>\n",
       "      <td>Education</td>\n",
       "      <td>6</td>\n",
       "      <td>162</td>\n",
       "      <td>390</td>\n",
       "      <td>My Fashion-Mag Office</td>\n",
       "      <td>K.K. Moody</td>\n",
       "    </tr>\n",
       "    <tr>\n",
       "      <th>176</th>\n",
       "      <td>177</td>\n",
       "      <td>Velma</td>\n",
       "      <td>Snooty</td>\n",
       "      <td>Goat</td>\n",
       "      <td>Female</td>\n",
       "      <td>Education</td>\n",
       "      <td>6</td>\n",
       "      <td>163</td>\n",
       "      <td>391</td>\n",
       "      <td>Velma's Schoolhouse</td>\n",
       "      <td>Mr. K.K.</td>\n",
       "    </tr>\n",
       "  </tbody>\n",
       "</table>\n",
       "<p>391 rows × 11 columns</p>\n",
       "</div>"
      ],
      "text/plain": [
       "      Id     Name Personality   Species  Gender      Hobby  Tier  Rank  \\\n",
       "63    64  Raymond        Smug       Cat    Male     Nature     1     1   \n",
       "371  372  Marshal        Smug  Squirrel    Male      Music     1     2   \n",
       "179  180    Sherb        Lazy      Goat    Male     Nature     1     4   \n",
       "60    61    Ankha      Snooty       Cat  Female     Nature     1     7   \n",
       "268  269   Zucker        Lazy   Octopus    Male     Nature     1     8   \n",
       "..   ...      ...         ...       ...     ...        ...   ...   ...   \n",
       "197  198    Rocco      Cranky     Hippo    Male  Education     6   159   \n",
       "262  263  Bettina      Normal     Mouse  Female  Education     6   160   \n",
       "308  309    Boris      Cranky       Pig    Male     Nature     6   161   \n",
       "201  202    Bitty      Snooty     Hippo  Female  Education     6   162   \n",
       "176  177    Velma      Snooty      Goat  Female  Education     6   163   \n",
       "\n",
       "     Overall_Ranking                  Request             Song  \n",
       "63                 1   A Home Tailored for Me       K.K. Break  \n",
       "371                2         Retro Café Cabin       K.K. Swing  \n",
       "179                3    My Fantasy Theme Park         My Place  \n",
       "60                 4            Ancient Oasis      K.K. Bazaar  \n",
       "268                5         Festival Grounds  Spring Blossoms  \n",
       "..               ...                      ...              ...  \n",
       "197              387      Rocco's Danger Zone     Surfin' K.K.  \n",
       "262              388    A Peerless Patisserie        Café K.K.  \n",
       "308              389  A Music Producer's Home   K.K. Technopop  \n",
       "201              390    My Fashion-Mag Office       K.K. Moody  \n",
       "176              391      Velma's Schoolhouse         Mr. K.K.  \n",
       "\n",
       "[391 rows x 11 columns]"
      ]
     },
     "execution_count": 34,
     "metadata": {},
     "output_type": "execute_result"
    }
   ],
   "source": [
    "# move the 'Overall_Ranking' column to after the Rank column\n",
    "final_merged_df.insert(8, 'Overall_Ranking', final_merged_df.pop('Overall_Ranking'))\n",
    "final_merged_df"
   ]
  },
  {
   "cell_type": "markdown",
   "id": "c91054ae",
   "metadata": {},
   "source": [
    "### Species"
   ]
  },
  {
   "cell_type": "markdown",
   "id": "2ce57cb7",
   "metadata": {},
   "source": [
    "#### Villagers in Each Tier"
   ]
  },
  {
   "cell_type": "code",
   "execution_count": 35,
   "id": "dea725f8",
   "metadata": {},
   "outputs": [
    {
     "name": "stdout",
     "output_type": "stream",
     "text": [
      "\n",
      "Count of Villagers in Each Tier by Species:\n",
      " Tier       1  2  3  4   5   6\n",
      "Species                      \n",
      "Alligator  0  0  0  2   1   4\n",
      "Anteater   0  0  0  0   3   4\n",
      "Bear       0  0  0  3   3   9\n",
      "Bird       0  0  0  0   3  10\n",
      "Bull       0  0  0  0   2   4\n",
      "Cat        2  6  4  4   5   2\n",
      "Chicken    0  0  0  0   4   5\n",
      "Cow        0  0  0  0   3   1\n",
      "Cub        3  1  1  2   5   4\n",
      "Deer       1  3  3  3   0   0\n",
      "Dog        0  2  3  4   4   3\n",
      "Duck       0  2  0  3   3   9\n",
      "Eagle      0  1  0  0   3   5\n",
      "Elephant   0  0  1  2   3   5\n",
      "Frog       0  1  1  1   8   7\n",
      "Goat       1  0  2  2   0   3\n",
      "Gorilla    0  0  0  0   1   8\n",
      "Hamster    0  0  3  1   2   2\n",
      "Hippo      0  0  0  0   2   5\n",
      "Horse      0  1  1  1   4   8\n",
      "Kangaroo   0  0  0  0   3   5\n",
      "Koala      0  0  1  3   5   0\n",
      "Lion       0  0  0  1   1   5\n",
      "Monkey     0  0  0  1   4   3\n",
      "Mouse      0  0  0  1   4  10\n",
      "Octopus    2  0  1  0   0   0\n",
      "Ostrich    0  1  0  2   4   3\n",
      "Penguin    0  1  0  4   4   4\n",
      "Pig        0  0  0  1   1  13\n",
      "Rabbit     1  0  2  3  10   4\n",
      "Rhino      1  0  0  1   3   1\n",
      "Sheep      0  2  0  1   5   5\n",
      "Squirrel   1  1  2  4   6   4\n",
      "Tiger      0  0  0  2   2   3\n",
      "Wolf       0  2  4  3   2   0\n"
     ]
    }
   ],
   "source": [
    "# count number of villagers from each species in each popularity tier\n",
    "tier_counts = final_merged_df.groupby(['Species', 'Tier']).size().unstack(fill_value=0)\n",
    "print(\"\\nCount of Villagers in Each Tier by Species:\\n\", tier_counts)"
   ]
  },
  {
   "cell_type": "markdown",
   "id": "2c530bc7",
   "metadata": {},
   "source": [
    "This table presents the count of villagers in each tier, grouped by species. The tiers range from 1 to 6, with 1 being the highest (most popular) and 6 being the lowest (least popular). Each cell in the table represents the number of villagers of a particular species that fall into a specific tier.\n",
    "\n",
    "For instance, there are 3 cubs in tier 1, which means that there are 3 cub villagers who are among the most popular. On the other hand, there are 13 pigs in tier 6, indicating that pig villagers tend to be less popular.\n",
    "\n",
    "Some species, like the Octopus, have a strong presence in the top tiers (2 in tier 1), but no presence in the lower tiers. This suggests that Octopus villagers are generally more popular. Conversely, species like the Pig and Mouse have a strong presence in the lower tiers (13 and 10 in tier 6, respectively), suggesting that these species are generally less popular.\n",
    "\n",
    "In some cases, a species has a fairly even distribution across the tiers, such as the Penguin and Dog species. This suggests a mixed popularity among villagers of these species."
   ]
  },
  {
   "cell_type": "markdown",
   "id": "66ebc3ae",
   "metadata": {},
   "source": [
    "#### Average Popularity Ranking"
   ]
  },
  {
   "cell_type": "code",
   "execution_count": 36,
   "id": "466d6de0",
   "metadata": {},
   "outputs": [
    {
     "name": "stdout",
     "output_type": "stream",
     "text": [
      "Average Popularity Ranking by Species:\n",
      " Species\n",
      "Octopus       17.333333\n",
      "Deer          52.300000\n",
      "Wolf          72.636364\n",
      "Cat           94.521739\n",
      "Koala        134.111111\n",
      "Dog          139.750000\n",
      "Cub          143.187500\n",
      "Hamster      147.250000\n",
      "Squirrel     148.611111\n",
      "Rhino        155.333333\n",
      "Goat         162.500000\n",
      "Rabbit       162.700000\n",
      "Penguin      186.923077\n",
      "Ostrich      187.500000\n",
      "Frog         199.000000\n",
      "Sheep        199.538462\n",
      "Elephant     205.181818\n",
      "Cow          205.500000\n",
      "Monkey       214.500000\n",
      "Duck         216.941176\n",
      "Tiger        217.714286\n",
      "Alligator    221.857143\n",
      "Horse        231.600000\n",
      "Anteater     233.714286\n",
      "Lion         235.428571\n",
      "Bear         241.333333\n",
      "Eagle        243.444444\n",
      "Chicken      255.000000\n",
      "Bull         267.333333\n",
      "Bird         277.538462\n",
      "Kangaroo     278.625000\n",
      "Hippo        285.571429\n",
      "Mouse        287.266667\n",
      "Pig          305.600000\n",
      "Gorilla      308.555556\n",
      "Name: Overall_Ranking, dtype: float64\n"
     ]
    }
   ],
   "source": [
    "# calculate the mean popularity ranking for each species and sort so most popular are at the top\n",
    "mean_popularity_species = final_merged_df.groupby('Species')['Overall_Ranking'].mean().sort_values()\n",
    "print(\"Average Popularity Ranking by Species:\\n\", mean_popularity_species)"
   ]
  },
  {
   "cell_type": "markdown",
   "id": "2e1ccc65",
   "metadata": {},
   "source": [
    "This table presents the average popularity ranking for each species of villagers. The popularity ranking is a numerical value, with a lower number indicating higher popularity.\n",
    "\n",
    "The Octopus species has the highest average popularity ranking, with a value of 17.33, suggesting that Octopus villagers are generally the most popular among players. On the other hand, the Gorilla species has the lowest average popularity ranking, with a value of 308.56, indicating that Gorilla villagers are generally the least popular.\n",
    "\n",
    "Species like the Deer, Wolf, and Cat also have relatively high average popularity rankings (52.3, 72.64, and 94.52 respectively), suggesting that these species are also quite popular among players.\n",
    "\n",
    "Conversely, species like the Pig, Mouse, and Hippo have relatively low average popularity rankings (305.6, 287.27, and 285.57 respectively), suggesting that these species are less popular.\n",
    "\n",
    "It's important to note that these are average values, so there may be individual villagers within each species that deviate from these averages. However, these values provide a general idea of the relative popularity of each species."
   ]
  },
  {
   "cell_type": "markdown",
   "id": "9ca63f38",
   "metadata": {},
   "source": [
    "#### Popularity Range\n",
    "A larger range indicates a greater spread in popularity rankings within that species."
   ]
  },
  {
   "cell_type": "code",
   "execution_count": 37,
   "id": "af30a01f",
   "metadata": {},
   "outputs": [
    {
     "name": "stdout",
     "output_type": "stream",
     "text": [
      "\n",
      "Popularity Range by Species:\n",
      " Species\n",
      "Goat         388\n",
      "Duck         368\n",
      "Squirrel     362\n",
      "Penguin      349\n",
      "Ostrich      345\n",
      "Horse        345\n",
      "Elephant     339\n",
      "Sheep        338\n",
      "Eagle        327\n",
      "Dog          326\n",
      "Cub          316\n",
      "Hamster      313\n",
      "Rabbit       313\n",
      "Frog         306\n",
      "Pig          299\n",
      "Cat          297\n",
      "Bear         281\n",
      "Lion         278\n",
      "Alligator    278\n",
      "Mouse        274\n",
      "Monkey       257\n",
      "Tiger        243\n",
      "Hippo        235\n",
      "Chicken      234\n",
      "Anteater     233\n",
      "Rhino        228\n",
      "Bird         223\n",
      "Cow          213\n",
      "Gorilla      159\n",
      "Koala        157\n",
      "Kangaroo     154\n",
      "Bull         148\n",
      "Wolf         125\n",
      "Deer          89\n",
      "Octopus       34\n",
      "Name: Overall_Ranking, dtype: int32\n"
     ]
    }
   ],
   "source": [
    "# calculate the range of popularity rankings (max - min) for each species. \n",
    "popularity_range = final_merged_df.groupby('Species')['Overall_Ranking'].max() - final_merged_df.groupby('Species')['Overall_Ranking'].min()\n",
    "\n",
    "# sort the popularity range in descending order\n",
    "popularity_range = popularity_range.sort_values(ascending=False)\n",
    "\n",
    "print(\"\\nPopularity Range by Species:\\n\", popularity_range)"
   ]
  },
  {
   "cell_type": "markdown",
   "id": "a6e6803c",
   "metadata": {},
   "source": [
    "This table presents the range of popularity rankings for each species of villagers. The popularity ranking is a numerical value, with a lower number indicating higher popularity. The range is calculated as the difference between the highest and lowest popularity rankings within each species.\n",
    "\n",
    "The Goat species has the widest range of popularity rankings, with a value of 388. This suggests that there is a significant variation in popularity among Goat villagers, with some being highly popular and others being less so.\n",
    "\n",
    "On the other hand, the Octopus species has the narrowest range of popularity rankings, with a value of 34. This suggests that the popularity of Octopus villagers is relatively consistent, with less variation compared to other species.\n",
    "\n",
    "Species like the Duck, Squirrel, and Penguin also have wide ranges of popularity rankings (368, 362, and 349 respectively), indicating significant variation in popularity within these species.\n",
    "\n",
    "Conversely, species like the Bull, Wolf, and Deer have relatively narrow ranges of popularity rankings (148, 125, and 89 respectively), suggesting less variation in popularity within these species.\n",
    "\n",
    "These ranges provide an idea of the diversity in popularity within each species. A wider range suggests a greater disparity in popularity among villagers of the same species, while a narrower range suggests more uniform popularity."
   ]
  },
  {
   "cell_type": "markdown",
   "id": "45626742",
   "metadata": {},
   "source": [
    "#### Proportion of Villagers in the Top Tier\n",
    "This will show the proportion of villagers from each species that are in the top popularity tier (Tier 1). A higher proportion indicates that a larger fraction of the species' villagers are highly popular. There are some species with no villagers in the top tier. These will be replaced by 0."
   ]
  },
  {
   "cell_type": "code",
   "execution_count": 38,
   "id": "b4ed0b42",
   "metadata": {},
   "outputs": [
    {
     "name": "stdout",
     "output_type": "stream",
     "text": [
      "\n",
      "Proportion of Villagers in the Top Tier by Species:\n",
      " Species\n",
      "Rabbit       0.050000\n",
      "Squirrel     0.055556\n",
      "Cat          0.086957\n",
      "Deer         0.100000\n",
      "Goat         0.125000\n",
      "Rhino        0.166667\n",
      "Cub          0.187500\n",
      "Octopus      0.666667\n",
      "Alligator    0.000000\n",
      "Anteater     0.000000\n",
      "Bear         0.000000\n",
      "Bird         0.000000\n",
      "Bull         0.000000\n",
      "Chicken      0.000000\n",
      "Cow          0.000000\n",
      "Dog          0.000000\n",
      "Duck         0.000000\n",
      "Eagle        0.000000\n",
      "Elephant     0.000000\n",
      "Frog         0.000000\n",
      "Gorilla      0.000000\n",
      "Hamster      0.000000\n",
      "Hippo        0.000000\n",
      "Horse        0.000000\n",
      "Kangaroo     0.000000\n",
      "Koala        0.000000\n",
      "Lion         0.000000\n",
      "Monkey       0.000000\n",
      "Mouse        0.000000\n",
      "Ostrich      0.000000\n",
      "Penguin      0.000000\n",
      "Pig          0.000000\n",
      "Sheep        0.000000\n",
      "Tiger        0.000000\n",
      "Wolf         0.000000\n",
      "dtype: float64\n"
     ]
    }
   ],
   "source": [
    "# calculate the proportion of villagers from each species that are in the top popularity tier (Tier 1). \n",
    "top_tier_proportion = final_merged_df[final_merged_df['Tier'] == 1].groupby('Species').size() / final_merged_df.groupby('Species').size()\n",
    "\n",
    "top_tier_proportion = top_tier_proportion.sort_values()\n",
    "\n",
    "# for species with no villagers in top tier, replace with 0\n",
    "top_tier_proportion = top_tier_proportion.fillna(0)\n",
    "\n",
    "print(\"\\nProportion of Villagers in the Top Tier by Species:\\n\", top_tier_proportion)"
   ]
  },
  {
   "cell_type": "markdown",
   "id": "d633295d",
   "metadata": {},
   "source": [
    "The table shows the proportion of villagers in the top tier (Tier 1) for each species.\n",
    "\n",
    "The 'Octopus' species has the highest proportion of villagers in the top tier, with about 67% of its villagers being in Tier 1. This suggests that octopus villagers are generally more popular among players.\n",
    "\n",
    "The 'Cub' species has the second highest proportion of villagers in the top tier, with about 19% of its villagers being in Tier 1.\n",
    "\n",
    "The 'Rhino' species has the third highest proportion of villagers in the top tier, with about 17% of its villagers being in Tier 1.\n",
    "\n",
    "The 'Goat' species has about 13% of its villagers in the top tier, and the 'Deer' species has about 10% of its villagers in the top tier.\n",
    "\n",
    "The 'Cat', 'Squirrel', and 'Rabbit' species have smaller proportions of villagers in the top tier, ranging from about 5% to 9%.\n",
    "\n",
    "The other speices have no villagers in the top tier. This suggests that villagers of these species are generally less popular among players."
   ]
  },
  {
   "cell_type": "markdown",
   "id": "d45087d6",
   "metadata": {},
   "source": [
    "### Gender"
   ]
  },
  {
   "cell_type": "markdown",
   "id": "0018bb8d",
   "metadata": {},
   "source": [
    "#### Total Number of Male Villagers and Female Villagers"
   ]
  },
  {
   "cell_type": "code",
   "execution_count": 39,
   "id": "5478c74d",
   "metadata": {},
   "outputs": [
    {
     "data": {
      "text/plain": [
       "Male      204\n",
       "Female    187\n",
       "Name: Gender, dtype: int64"
      ]
     },
     "execution_count": 39,
     "metadata": {},
     "output_type": "execute_result"
    }
   ],
   "source": [
    "# count number of villagers for each gender\n",
    "final_merged_df['Gender'].value_counts()"
   ]
  },
  {
   "cell_type": "code",
   "execution_count": 40,
   "id": "72fffd80",
   "metadata": {},
   "outputs": [],
   "source": [
    "# group the data by gender\n",
    "grouped = final_merged_df.groupby('Gender')"
   ]
  },
  {
   "cell_type": "markdown",
   "id": "f29dc047",
   "metadata": {},
   "source": [
    "#### Average Ranking for Each Gender"
   ]
  },
  {
   "cell_type": "code",
   "execution_count": 41,
   "id": "400bf487",
   "metadata": {},
   "outputs": [
    {
     "name": "stdout",
     "output_type": "stream",
     "text": [
      "Mean Ranking:\n",
      " Gender\n",
      "Female    180.283422\n",
      "Male      210.406863\n",
      "Name: Overall_Ranking, dtype: float64\n"
     ]
    }
   ],
   "source": [
    "# calculate mean ranking for each gender\n",
    "mean_ranking = grouped['Overall_Ranking'].mean()\n",
    "print(\"Mean Ranking:\\n\", mean_ranking)"
   ]
  },
  {
   "cell_type": "markdown",
   "id": "7d5f4468",
   "metadata": {},
   "source": [
    "This data represents the average popularity ranking for villagers based on their gender. The lower the ranking, the more popular the villager is.\n",
    "\n",
    "Female villagers have an average popularity ranking of approximately 180.28, which indicates that they are generally more popular than male villagers, who have an average popularity ranking of approximately 210.41."
   ]
  },
  {
   "cell_type": "markdown",
   "id": "f9515a08",
   "metadata": {},
   "source": [
    "#### Standard Deviation of Rankings for Each Gender"
   ]
  },
  {
   "cell_type": "code",
   "execution_count": 42,
   "id": "98beb285",
   "metadata": {},
   "outputs": [
    {
     "name": "stdout",
     "output_type": "stream",
     "text": [
      "\n",
      "Standard Deviation of Rankings:\n",
      " Gender\n",
      "Female    115.232070\n",
      "Male      109.252255\n",
      "Name: Overall_Ranking, dtype: float64\n"
     ]
    }
   ],
   "source": [
    "# calculate standard deviation fo rankings for each gender\n",
    "std_dev_rankings = grouped['Overall_Ranking'].std()\n",
    "print(\"\\nStandard Deviation of Rankings:\\n\", std_dev_rankings)"
   ]
  },
  {
   "cell_type": "markdown",
   "id": "ae8b5644",
   "metadata": {},
   "source": [
    "The standard deviation values represent the amount of variation or dispersion in the popularity rankings for each gender category.\n",
    "\n",
    "For female villagers, the standard deviation in popularity ranking is approximately 115.23. This means that the popularity rankings for female villagers vary, on average, by about 115.23 points from the mean popularity ranking.\n",
    "\n",
    "For male villagers, the standard deviation in popularity ranking is approximately 109.25. This means that the popularity rankings for male villagers vary, on average, by about 109.25 points from the mean popularity ranking.\n",
    "\n",
    "The slightly higher standard deviation for female villagers indicates a slightly wider distribution of popularity rankings for female villagers compared to male villagers."
   ]
  },
  {
   "cell_type": "markdown",
   "id": "0527d788",
   "metadata": {},
   "source": [
    "### Personality"
   ]
  },
  {
   "cell_type": "markdown",
   "id": "826e11b9",
   "metadata": {},
   "source": [
    "#### Villagers Per Personality TYpe"
   ]
  },
  {
   "cell_type": "code",
   "execution_count": 43,
   "id": "42eee091",
   "metadata": {},
   "outputs": [
    {
     "data": {
      "text/plain": [
       "Lazy          60\n",
       "Normal        59\n",
       "Snooty        55\n",
       "Jock          55\n",
       "Cranky        55\n",
       "Peppy         49\n",
       "Smug          34\n",
       "Big sister    24\n",
       "Name: Personality, dtype: int64"
      ]
     },
     "execution_count": 43,
     "metadata": {},
     "output_type": "execute_result"
    }
   ],
   "source": [
    "# count the number of villagers for each personality type\n",
    "villager_count_by_personality = final_merged_df['Personality'].value_counts()\n",
    "villager_count_by_personality"
   ]
  },
  {
   "cell_type": "markdown",
   "id": "36753419",
   "metadata": {},
   "source": [
    "The table shows the count of villagers per personality type. 'Lazy' is the most common personality with 60 villagers, followed closely by 'Normal' with 59 villagers. The least common personality is 'Big sister', represented by only 24 villagers."
   ]
  },
  {
   "cell_type": "markdown",
   "id": "134570c0",
   "metadata": {},
   "source": [
    "#### Average Ranking Per Personality Type"
   ]
  },
  {
   "cell_type": "code",
   "execution_count": 44,
   "id": "662353ab",
   "metadata": {},
   "outputs": [
    {
     "data": {
      "text/plain": [
       "Personality\n",
       "Big sister    151.083333\n",
       "Normal        151.423729\n",
       "Peppy         157.183673\n",
       "Lazy          183.833333\n",
       "Smug          191.852941\n",
       "Jock          223.381818\n",
       "Cranky        237.890909\n",
       "Snooty        244.563636\n",
       "Name: Overall_Ranking, dtype: float64"
      ]
     },
     "execution_count": 44,
     "metadata": {},
     "output_type": "execute_result"
    }
   ],
   "source": [
    "# Calculate the average popularity ranking for each personality type\n",
    "avg_popularity_by_personality = final_merged_df.groupby('Personality')['Overall_Ranking'].mean().sort_values()\n",
    "avg_popularity_by_personality"
   ]
  },
  {
   "cell_type": "markdown",
   "id": "6d9ec945",
   "metadata": {},
   "source": [
    "The table presents the average popularity ranking for each personality type. 'Big sister' and 'Normal' personality types are the most popular among villagers, with average rankings of 151.08 and 151.42 respectively. On the other hand, 'Snooty' and 'Cranky' personality types are the least popular, with average rankings of 244.56 and 237.89 respectively. 'Jock', 'Smug', 'Lazy', and 'Peppy' personality types fall in the middle range of popularity."
   ]
  },
  {
   "cell_type": "markdown",
   "id": "0148e12f",
   "metadata": {},
   "source": [
    "#### Personality Distribution Across Tiers"
   ]
  },
  {
   "cell_type": "markdown",
   "id": "04dcf528",
   "metadata": {},
   "source": [
    "In this section, we will examine the distribution of personality types across the different tiers. This will provide insights into whether certain personality types are more common in higher or lower tiers."
   ]
  },
  {
   "cell_type": "code",
   "execution_count": 45,
   "id": "5f796edf",
   "metadata": {},
   "outputs": [
    {
     "name": "stdout",
     "output_type": "stream",
     "text": [
      "    Tier Personality  Count\n",
      "0      1        Lazy      4\n",
      "1      1      Normal      4\n",
      "2      1        Smug      2\n",
      "3      1      Snooty      2\n",
      "8      2      Normal      6\n",
      "9      2       Peppy      6\n",
      "7      2        Lazy      4\n",
      "5      2      Cranky      2\n",
      "6      2        Jock      2\n",
      "10     2        Smug      2\n",
      "4      2  Big sister      1\n",
      "11     2      Snooty      1\n",
      "16     3      Normal      8\n",
      "12     3  Big sister      5\n",
      "13     3      Cranky      4\n",
      "17     3       Peppy      4\n",
      "14     3        Jock      3\n",
      "15     3        Lazy      2\n",
      "18     3        Smug      2\n",
      "19     3      Snooty      1\n",
      "25     4       Peppy     10\n",
      "23     4        Lazy      9\n",
      "24     4      Normal      8\n",
      "20     4  Big sister      6\n",
      "26     4        Smug      6\n",
      "27     4      Snooty      6\n",
      "21     4      Cranky      5\n",
      "22     4        Jock      5\n",
      "31     5        Lazy     19\n",
      "32     5      Normal     19\n",
      "30     5        Jock     18\n",
      "33     5       Peppy     16\n",
      "35     5      Snooty     15\n",
      "29     5      Cranky     13\n",
      "28     5  Big sister      8\n",
      "34     5        Smug      5\n",
      "37     6      Cranky     31\n",
      "43     6      Snooty     30\n",
      "38     6        Jock     27\n",
      "39     6        Lazy     22\n",
      "42     6        Smug     17\n",
      "40     6      Normal     14\n",
      "41     6       Peppy     13\n",
      "36     6  Big sister      4\n"
     ]
    }
   ],
   "source": [
    "# Group the dataframe by 'Tier' and 'Personality', then count the number of villagers in each group\n",
    "personality_counts = final_merged_df.groupby(['Tier', 'Personality'])['Name'].count()\n",
    "\n",
    "# Convert the groupby object to a DataFrame\n",
    "personality_counts_df = personality_counts.reset_index()\n",
    "\n",
    "# Rename the 'Name' column to 'Count'\n",
    "personality_counts_df.rename(columns={'Name': 'Count'}, inplace=True)\n",
    "\n",
    "# Sort the DataFrame by 'Tier' and 'Count'\n",
    "personality_counts_df = personality_counts_df.sort_values(['Tier', 'Count'], ascending=[True, False])\n",
    "\n",
    "# Display the DataFrame\n",
    "print(personality_counts_df)"
   ]
  },
  {
   "cell_type": "markdown",
   "id": "58760f9e",
   "metadata": {},
   "source": [
    "In Tier 1, the most common personality types are Lazy and Normal, each with 4 villagers. Smug and Snooty personality types are less common, with only 2 villagers each.\n",
    "\n",
    "In Tier 2, the most common personality types are Normal and Peppy, each with 6 villagers. Big Sister, Cranky, Jock, Lazy, and Smug personality types have fewer villagers, ranging from 1 to 4.\n",
    "\n",
    "In Tier 3, the Normal personality type is the most common with 8 villagers, followed by Big Sister with 5. The other personality types range from 1 to 4 villagers.\n",
    "\n",
    "In Tier 4, the most common personality types are Lazy and Peppy, each with 9 and 10 villagers respectively. The other personality types range from 5 to 8 villagers.\n",
    "\n",
    "In Tier 5, the most common personality types are Lazy, Normal, and Peppy, each with 16 to 19 villagers. The other personality types range from 5 to 15 villagers.\n",
    "\n",
    "In Tier 6, the most common personality types are Lazy, Jock, Cranky, and Snooty, each with 22 to 31 villagers. The other personality types range from 4 to 17 villagers.\n",
    "\n",
    "This analysis suggests that certain personality types, such as Normal and Peppy, are more common in higher tiers, while others, such as Jock, Cranky, and Snooty, are more common in lower tiers."
   ]
  },
  {
   "cell_type": "markdown",
   "id": "87376d06",
   "metadata": {},
   "source": [
    "### Hobbies"
   ]
  },
  {
   "cell_type": "markdown",
   "id": "3dc3a867",
   "metadata": {},
   "source": [
    "#### Villagers Per Hobby"
   ]
  },
  {
   "cell_type": "code",
   "execution_count": 46,
   "id": "ed808364",
   "metadata": {},
   "outputs": [
    {
     "data": {
      "text/plain": [
       "Nature       66\n",
       "Fitness      66\n",
       "Fashion      66\n",
       "Play         65\n",
       "Music        64\n",
       "Education    64\n",
       "Name: Hobby, dtype: int64"
      ]
     },
     "execution_count": 46,
     "metadata": {},
     "output_type": "execute_result"
    }
   ],
   "source": [
    "# count the number of villagers for each hobby\n",
    "villager_count_by_hobby = final_merged_df['Hobby'].value_counts()\n",
    "villager_count_by_hobby"
   ]
  },
  {
   "cell_type": "markdown",
   "id": "e94162b7",
   "metadata": {},
   "source": [
    "The table shows the count of villagers for each hobby in the dataset. 'Nature', 'Fitness', and 'Fashion' are the most common hobbies among the villagers, each with 66 villagers. 'Play' is also a common hobby, with 65 villagers. 'Music' and 'Education' are the least common hobbies, each with 64 villagers. This suggests a fairly even distribution of hobbies among the villagers."
   ]
  },
  {
   "cell_type": "markdown",
   "id": "a86c37ef",
   "metadata": {},
   "source": [
    "#### Average Ranking Per Hobby"
   ]
  },
  {
   "cell_type": "code",
   "execution_count": 47,
   "id": "3902e264",
   "metadata": {},
   "outputs": [
    {
     "data": {
      "text/plain": [
       "Hobby\n",
       "Nature       165.666667\n",
       "Music        165.953125\n",
       "Play         180.061538\n",
       "Education    211.703125\n",
       "Fashion      212.060606\n",
       "Fitness      239.878788\n",
       "Name: Overall_Ranking, dtype: float64"
      ]
     },
     "execution_count": 47,
     "metadata": {},
     "output_type": "execute_result"
    }
   ],
   "source": [
    "# calculate the average popularity ranking for each hobby\n",
    "avg_popularity_by_hobby = final_merged_df.groupby('Hobby')['Overall_Ranking'].mean().sort_values()\n",
    "avg_popularity_by_hobby"
   ]
  },
  {
   "cell_type": "markdown",
   "id": "406838bd",
   "metadata": {},
   "source": [
    "The table shows the average popularity ranking for each hobby among the villagers. 'Nature' and 'Music' hobbies have the lowest average popularity rankings, indicating that villagers with these hobbies are generally more popular.\n",
    "\n",
    "On the other hand, 'Fitness' hobby has the highest average popularity ranking of approximately 239.88, indicating that villagers with this hobby are generally less popular. 'Fashion' and 'Education' hobbies also have relatively high average popularity rankings, approximately 212.06 and 211.70 respectively, suggesting that villagers with these hobbies are less popular compared to those with 'Nature' or 'Music' hobbies."
   ]
  },
  {
   "cell_type": "markdown",
   "id": "b3434040",
   "metadata": {},
   "source": [
    "#### Villagers in Top Tier Per Hobby"
   ]
  },
  {
   "cell_type": "code",
   "execution_count": 48,
   "id": "3af38160",
   "metadata": {},
   "outputs": [
    {
     "data": {
      "text/plain": [
       "Nature       6\n",
       "Music        3\n",
       "Education    2\n",
       "Play         1\n",
       "Name: Hobby, dtype: int64"
      ]
     },
     "execution_count": 48,
     "metadata": {},
     "output_type": "execute_result"
    }
   ],
   "source": [
    "# count the number of villagers in the tier 1 for each hobby\n",
    "top_tier_villagers_by_hobby = final_merged_df[final_merged_df['Tier'] == 1]['Hobby'].value_counts()\n",
    "top_tier_villagers_by_hobby"
   ]
  },
  {
   "cell_type": "markdown",
   "id": "c20defce",
   "metadata": {},
   "source": [
    "The table shows the count of villagers in the top tier (Tier 1) for each hobby. Villagers with the 'Nature' hobby have the highest representation in Tier 1, with 6 villagers. This suggests that the 'Nature' hobby is associated with high popularity among villagers.\n",
    "\n",
    "The 'Music' hobby has the second highest representation in Tier 1, with 3 villagers. This also suggests a relatively high popularity for villagers with the 'Music' hobby.\n",
    "\n",
    "On the other hand, the 'Education' hobby has only 2 villagers in Tier 1, and the 'Play' hobby has the least representation with only 1 villager in Tier 1. This suggests that these hobbies are less associated with high popularity among villagers."
   ]
  },
  {
   "cell_type": "markdown",
   "id": "8c6d1af4",
   "metadata": {},
   "source": [
    "### Requests"
   ]
  },
  {
   "cell_type": "code",
   "execution_count": 49,
   "id": "e9b6395c",
   "metadata": {},
   "outputs": [
    {
     "name": "stdout",
     "output_type": "stream",
     "text": [
      "There are 391 unique requests.\n"
     ]
    }
   ],
   "source": [
    "# Count the number of unique requests\n",
    "num_unique_requests = final_merged_df['Request'].nunique()\n",
    "\n",
    "# Print the result\n",
    "print(f'There are {num_unique_requests} unique requests.')"
   ]
  },
  {
   "cell_type": "markdown",
   "id": "7e12814c",
   "metadata": {},
   "source": [
    "#### 20 Most Common Words in Requests"
   ]
  },
  {
   "cell_type": "code",
   "execution_count": 50,
   "id": "7bbf9e8c",
   "metadata": {},
   "outputs": [
    {
     "name": "stdout",
     "output_type": "stream",
     "text": [
      "[('home', 37), ('house', 20), ('place', 19), ('garden', 10), ('space', 10), ('café', 9), ('gym', 9), ('studio', 8), ('palace', 7), ('paradise', 7), ('secret', 6), ('sports', 6), ('cabin', 5), ('grounds', 5), ('full', 5), ('bungalow', 5), ('life', 5), ('manor', 5), ('hideaway', 5), ('field', 5)]\n"
     ]
    }
   ],
   "source": [
    "# Create a list of all words in the requests, making sure each request is a string\n",
    "words = ' '.join(str(request) for request in final_merged_df['Request']).lower().split()\n",
    "\n",
    "# Remove stopwords from the list of words\n",
    "stop_words = set(stopwords.words('english'))\n",
    "words = [word for word in words if word not in stop_words]\n",
    "\n",
    "# Count the 20 most common words\n",
    "word_counts = Counter(words)\n",
    "most_common_words = word_counts.most_common(20)\n",
    "\n",
    "print(most_common_words)"
   ]
  },
  {
   "cell_type": "markdown",
   "id": "d31a9edf",
   "metadata": {},
   "source": [
    "The list shows the 20 most common words found in the villagers' requests. These words can give us an idea of the most common themes or elements that villagers are interested in when making requests.\n",
    "\n",
    "The word 'home' is the most common, appearing 37 times. This suggests that many villagers are interested in elements related to their homes or are making requests about their living spaces.\n",
    "\n",
    "The word 'house' is the second most common, appearing 20 times, and 'place' is the third most common, appearing 19 times. These words further emphasize the importance of the living environment to the villagers.\n",
    "\n",
    "Other common words include 'garden', 'space', 'café', and 'gym', which appear 10, 10, 9, and 9 times respectively. These words suggest that villagers are also interested in outdoor spaces, personal spaces, social spaces like cafes, and fitness areas like gyms.\n",
    "\n",
    "The rest of the words in the list appear less frequently but still indicate common themes in the villagers' requests, such as 'studio', 'palace', 'paradise', 'secret', 'sports', 'cabin', 'grounds', 'full', 'bungalow', 'life', 'manor', 'hideaway', and 'field'."
   ]
  },
  {
   "cell_type": "markdown",
   "id": "1359e252",
   "metadata": {},
   "source": [
    "#### Average Popularity for Each Common Word"
   ]
  },
  {
   "cell_type": "markdown",
   "id": "f5ad56ea",
   "metadata": {},
   "source": [
    "In this section, we'll look at the relationship between the type of request and the popularity of the villager."
   ]
  },
  {
   "cell_type": "code",
   "execution_count": 51,
   "id": "abb34cb3",
   "metadata": {},
   "outputs": [
    {
     "data": {
      "text/plain": [
       "{'home': 229.45,\n",
       " 'house': 195.08695652173913,\n",
       " 'place': 160.76190476190476,\n",
       " 'garden': 227.0,\n",
       " 'space': 210.1,\n",
       " 'café': 184.11111111111111,\n",
       " 'gym': 270.0,\n",
       " 'studio': 214.25,\n",
       " 'palace': 129.0,\n",
       " 'paradise': 193.42857142857142,\n",
       " 'secret': 229.33333333333334,\n",
       " 'sports': 281.42857142857144,\n",
       " 'cabin': 235.0,\n",
       " 'grounds': 150.8,\n",
       " 'full': 175.6,\n",
       " 'bungalow': 237.8,\n",
       " 'life': 197.28571428571428,\n",
       " 'manor': 215.6,\n",
       " 'hideaway': 234.0,\n",
       " 'field': 224.4}"
      ]
     },
     "execution_count": 51,
     "metadata": {},
     "output_type": "execute_result"
    }
   ],
   "source": [
    "# Define the categories based on the most common words\n",
    "categories = [word[0] for word in most_common_words]\n",
    "\n",
    "# Create a new column for each category and check if the request contains the category word\n",
    "for category in categories:\n",
    "    final_merged_df[category] = final_merged_df['Request'].apply(lambda x: category in str(x).lower())\n",
    "\n",
    "# Calculate the average popularity for each category\n",
    "category_popularity = {}\n",
    "for category in categories:\n",
    "    category_popularity[category] = final_merged_df.loc[final_merged_df[category], 'Overall_Ranking'].mean()\n",
    "\n",
    "category_popularity"
   ]
  },
  {
   "cell_type": "markdown",
   "id": "f2ec7729",
   "metadata": {},
   "source": [
    "The 'palace' category has the lowest average popularity (which means higher popularity), with a score of 129. This suggests that villagers who request elements related to a 'palace' are generally more popular.\n",
    "\n",
    "The 'place' category has the second lowest average popularity, with a score of 160.76. This suggests that villagers who request elements related to a 'place' are also quite popular.\n",
    "\n",
    "The 'full' category has the third lowest average popularity, with a score of 175.6. This suggests that villagers who request elements related to being 'full' (perhaps in the context of a full house or a full garden) are also relatively popular.\n",
    "\n",
    "On the other hand, the 'sports' category has the highest average popularity, with a score of 281.43. This suggests that villagers who request elements related to 'sports' are generally less popular.\n",
    "\n",
    "Other categories such as 'home', 'house', 'garden', 'space', 'café', 'gym', 'studio', 'paradise', 'secret', 'cabin', 'grounds', 'bungalow', 'life', 'manor', 'hideaway', and 'field' have varying levels of average popularity, ranging from around 184 to 270."
   ]
  },
  {
   "cell_type": "markdown",
   "id": "760ee78f",
   "metadata": {},
   "source": [
    "## Song"
   ]
  },
  {
   "cell_type": "markdown",
   "id": "3c752d7b",
   "metadata": {},
   "source": [
    "#### Number of Unique Songs"
   ]
  },
  {
   "cell_type": "code",
   "execution_count": 52,
   "id": "4a50c539",
   "metadata": {},
   "outputs": [
    {
     "name": "stdout",
     "output_type": "stream",
     "text": [
      "There are 107 unique songs.\n"
     ]
    }
   ],
   "source": [
    "# Count the number of unique songs\n",
    "num_unique_songs = final_merged_df['Song'].nunique()\n",
    "\n",
    "# Print the result\n",
    "print(f'There are {num_unique_songs} unique songs.')"
   ]
  },
  {
   "cell_type": "markdown",
   "id": "16a8626b",
   "metadata": {},
   "source": [
    "#### Average Popularity by Song"
   ]
  },
  {
   "cell_type": "code",
   "execution_count": 53,
   "id": "90153072",
   "metadata": {},
   "outputs": [
    {
     "data": {
      "text/plain": [
       "Song\n",
       "Bubblegum K.K.      72.000000\n",
       "K.K. Lovers         79.250000\n",
       "Mountain Song       79.750000\n",
       "K.K. Fugue          94.200000\n",
       "K.K. Mariachi       94.666667\n",
       "K.K. Stroll        105.500000\n",
       "Animal City        108.750000\n",
       "K.K. Rockabilly    109.000000\n",
       "Spring Blossoms    112.000000\n",
       "Only Me            117.750000\n",
       "Name: Overall_Ranking, dtype: float64"
      ]
     },
     "execution_count": 53,
     "metadata": {},
     "output_type": "execute_result"
    }
   ],
   "source": [
    "# Calculate the average popularity for each song\n",
    "song_popularity = final_merged_df.groupby('Song')['Overall_Ranking'].mean()\n",
    "# Sort the series in ascending order and select the first 10 entries\n",
    "top_10_songs = song_popularity.sort_values().head(10)\n",
    "top_10_songs"
   ]
  },
  {
   "cell_type": "markdown",
   "id": "6d4c5dad",
   "metadata": {},
   "source": [
    "\"Bubblegum K.K.\" and \"K.K. Lovers\" are the most popular songs, with average popularity rankings of 72 and 79.25 respectively. This suggests that these songs are favored by the most popular villagers. On the other hand, \"Only Me\" and \"Spring Blossoms\" have the highest average popularity rankings among the top 10 songs, indicating that they are favored by less popular villagers."
   ]
  },
  {
   "cell_type": "markdown",
   "id": "27b80ed9",
   "metadata": {},
   "source": [
    "# Visualizations"
   ]
  },
  {
   "cell_type": "markdown",
   "id": "77c37544",
   "metadata": {},
   "source": [
    "## Popularity by Tier"
   ]
  },
  {
   "cell_type": "markdown",
   "id": "28e3887e",
   "metadata": {},
   "source": [
    "In this section, we will visualize the distribution of villagers across different popularity tiers to get a sense of which tiers have the most villagers and which have the least. This can help us understand the general popularity of the villagers."
   ]
  },
  {
   "cell_type": "code",
   "execution_count": 54,
   "id": "7ee387d8",
   "metadata": {},
   "outputs": [
    {
     "data": {
      "image/png": "[encoded data removed]",
      "text/plain": [
       "<Figure size 1000x600 with 1 Axes>"
      ]
     },
     "metadata": {},
     "output_type": "display_data"
    }
   ],
   "source": [
    "# Count the number of villagers in each tier\n",
    "tier_counts = final_merged_df['Tier'].value_counts()\n",
    "\n",
    "# Create a horizontal bar graph\n",
    "plt.figure(figsize=(10,6))\n",
    "bars = plt.barh(tier_counts.index, tier_counts.values, color='skyblue')\n",
    "\n",
    "# Add labels and title\n",
    "plt.xlabel('Number of Villagers')\n",
    "plt.ylabel('Tier')\n",
    "plt.title('Villager Popularity by Tier')\n",
    "\n",
    "# Display the counts on the bars\n",
    "for bar in bars:\n",
    "    plt.text(bar.get_width(), bar.get_y() + bar.get_height()/2, \n",
    "             f'{bar.get_width()}', va='center')\n",
    "\n",
    "# Reverse the y-axis so top tier is at top\n",
    "plt.gca().invert_yaxis()\n",
    "    \n",
    "# Display the plot\n",
    "plt.show()"
   ]
  },
  {
   "cell_type": "markdown",
   "id": "71095ae5",
   "metadata": {},
   "source": [
    "The distribution of villagers across tiers shows that the majority of villagers are in the lower tiers (Tiers 5 and 6), while fewer villagers are in the higher tiers (Tiers 1 and 2). The number of villagers increases as the tier number increases. "
   ]
  },
  {
   "cell_type": "markdown",
   "id": "6c79e0b4",
   "metadata": {},
   "source": [
    "## Species"
   ]
  },
  {
   "cell_type": "markdown",
   "id": "530ce9a9",
   "metadata": {},
   "source": [
    "Next, we'll analyze the relationship between species and popularity. To do this, we'll use the average popularity ranking for each species we calculated earlier to visualize this data using a bar plot. "
   ]
  },
  {
   "cell_type": "code",
   "execution_count": 55,
   "id": "57fedc60",
   "metadata": {},
   "outputs": [
    {
     "data": {
      "image/png": "[encoded data removed]",
      "text/plain": [
       "<Figure size 1000x600 with 1 Axes>"
      ]
     },
     "metadata": {},
     "output_type": "display_data"
    }
   ],
   "source": [
    "# plot the average popularity ranking for each species\n",
    "plt.figure(figsize=(10,6))\n",
    "ax = mean_popularity_species.plot(kind='barh', color='skyblue')\n",
    "plt.xlabel('Average Popularity Ranking')\n",
    "plt.ylabel('Species')\n",
    "plt.title('Average Popularity Ranking by Species')\n",
    "\n",
    "# invert the y-axis so most popular is at the top\n",
    "ax.invert_yaxis()\n",
    "\n",
    "plt.show()"
   ]
  },
  {
   "cell_type": "markdown",
   "id": "dbf44d97",
   "metadata": {},
   "source": [
    "The top 5 most popular species are the octopus, deer, wolf, cat, and koala. The 5 least popular are the kangaroo, hippo, mouse, pig, and gorilla."
   ]
  },
  {
   "cell_type": "markdown",
   "id": "efb609f5",
   "metadata": {},
   "source": [
    "## Gender"
   ]
  },
  {
   "cell_type": "markdown",
   "id": "b7f0d96e",
   "metadata": {},
   "source": [
    "In this section, we'll look at the distribution of genders within each popularity tier to see whether there is a gender bias in the popularity of Animal Crossing villagers. We will create a horizontal bar plot to visualize the number of male and female villagers in each tier."
   ]
  },
  {
   "cell_type": "code",
   "execution_count": 56,
   "id": "fd93b970",
   "metadata": {},
   "outputs": [
    {
     "data": {
      "text/plain": [
       "Text(0.5, 1.0, 'Distribution of Genders Within Each Tier ')"
      ]
     },
     "execution_count": 56,
     "metadata": {},
     "output_type": "execute_result"
    },
    {
     "data": {
      "image/png": "[encoded data removed]",
      "text/plain": [
       "<Figure size 640x480 with 1 Axes>"
      ]
     },
     "metadata": {},
     "output_type": "display_data"
    }
   ],
   "source": [
    "# show gender distribution within each popularity tier\n",
    "final_merged_df.groupby('Tier').Gender.value_counts().sort_index(ascending=False).plot.barh()\n",
    "plt.title('Distribution of Genders Within Each Tier ')"
   ]
  },
  {
   "cell_type": "markdown",
   "id": "7d0a2db8",
   "metadata": {},
   "source": [
    "There is a noticeable disproportion in the lowest tier (6th tier), where male villagers significantly outnumber female villagers. If we exclude the 6th tier, the distribution of male and female villagers across the other tiers is relatively balanced, though female villagers have a slight edge over female villagers in tiers 2 through 5."
   ]
  },
  {
   "cell_type": "markdown",
   "id": "55b6b537",
   "metadata": {},
   "source": [
    "Next, we'll create a boxplot to visualize the distribution of overall rankings for each gender. The red line represents the overall mean ranking across all villagers. This will help us understand if there are significant differences in the popularity of male and female villagers."
   ]
  },
  {
   "cell_type": "code",
   "execution_count": 57,
   "id": "1c44ecd3",
   "metadata": {},
   "outputs": [
    {
     "name": "stdout",
     "output_type": "stream",
     "text": [
      "The overall_mean is 196.0.\n"
     ]
    }
   ],
   "source": [
    "# calculate the mean (average) of the 'Overall_Ranking' column and assign it to the variable overall_mean\n",
    "overall_mean = final_merged_df.Overall_Ranking.mean()\n",
    "\n",
    "# print the calculated mean\n",
    "print(f'The overall_mean is {overall_mean}.')"
   ]
  },
  {
   "cell_type": "code",
   "execution_count": 58,
   "id": "3976554a",
   "metadata": {
    "scrolled": true
   },
   "outputs": [
    {
     "data": {
      "text/plain": [
       "<Axes: title={'center': 'Distribution of Overall Rankings for Each Gender'}, xlabel='Gender', ylabel='Overall_Ranking'>"
      ]
     },
     "execution_count": 58,
     "metadata": {},
     "output_type": "execute_result"
    },
    {
     "data": {
      "image/png": "[encoded data removed]",
      "text/plain": [
       "<Figure size 500x500 with 1 Axes>"
      ]
     },
     "metadata": {},
     "output_type": "display_data"
    }
   ],
   "source": [
    "# create a new figure, specify size\n",
    "plt.figure(figsize=(5, 5))\n",
    "plt.title('Distribution of Overall Rankings for Each Gender')\n",
    "\n",
    "#draw a horizontal line at the position of the overall mean ranking\n",
    "plt.axhline(overall_mean, color='r')\n",
    "\n",
    "# create a boxplot of overall rankings, grouped by gender\n",
    "sns.boxplot(x=\"Gender\", y='Overall_Ranking', data=final_merged_df)"
   ]
  },
  {
   "cell_type": "markdown",
   "id": "069e12f8",
   "metadata": {},
   "source": [
    "Female villagers typically have a higher overall ranking compared to male villagers."
   ]
  },
  {
   "cell_type": "markdown",
   "id": "54348bfd",
   "metadata": {},
   "source": [
    "## Personality"
   ]
  },
  {
   "cell_type": "markdown",
   "id": "93f829ae",
   "metadata": {},
   "source": [
    "In this section, we'll analyze the relationship between personality and popularity. To do this, we'll use the average popularity ranking for each personality we calculated earlier to visualize this data using a bar plot. "
   ]
  },
  {
   "cell_type": "code",
   "execution_count": 59,
   "id": "6ce7501d",
   "metadata": {},
   "outputs": [
    {
     "data": {
      "image/png": "[encoded data removed]",
      "text/plain": [
       "<Figure size 640x480 with 1 Axes>"
      ]
     },
     "metadata": {},
     "output_type": "display_data"
    }
   ],
   "source": [
    "# create a horizontal bar plot of the average popularity by personality\n",
    "ax = avg_popularity_by_personality.plot(kind='barh', color='skyblue')\n",
    "plt.title('Average Overall Ranking by Personality')\n",
    "plt.xlabel('Average Overall Ranking')\n",
    "plt.ylabel('Personality')\n",
    "\n",
    "# invert the y-axis so most popular is at the top\n",
    "ax.invert_yaxis()\n",
    "\n",
    "plt.show()"
   ]
  },
  {
   "cell_type": "markdown",
   "id": "1e64f1d5",
   "metadata": {},
   "source": [
    "The playerbase seems to have a preference for villagers with Big Sister, Normal, and Peppy personalities, as indicated by their higher average overall rankings. Conversely, Cranky, Jock, and Snooty villagers tend to have lower average overall rankings, suggesting that they are less favored by the players."
   ]
  },
  {
   "cell_type": "code",
   "execution_count": 60,
   "id": "f8410835",
   "metadata": {},
   "outputs": [
    {
     "data": {
      "text/html": [
       "<div>\n",
       "<style scoped>\n",
       "    .dataframe tbody tr th:only-of-type {\n",
       "        vertical-align: middle;\n",
       "    }\n",
       "\n",
       "    .dataframe tbody tr th {\n",
       "        vertical-align: top;\n",
       "    }\n",
       "\n",
       "    .dataframe thead th {\n",
       "        text-align: right;\n",
       "    }\n",
       "</style>\n",
       "<table border=\"1\" class=\"dataframe\">\n",
       "  <thead>\n",
       "    <tr style=\"text-align: right;\">\n",
       "      <th>Personality</th>\n",
       "      <th>Big sister</th>\n",
       "      <th>Cranky</th>\n",
       "      <th>Jock</th>\n",
       "      <th>Lazy</th>\n",
       "      <th>Normal</th>\n",
       "      <th>Peppy</th>\n",
       "      <th>Smug</th>\n",
       "      <th>Snooty</th>\n",
       "    </tr>\n",
       "    <tr>\n",
       "      <th>Tier</th>\n",
       "      <th></th>\n",
       "      <th></th>\n",
       "      <th></th>\n",
       "      <th></th>\n",
       "      <th></th>\n",
       "      <th></th>\n",
       "      <th></th>\n",
       "      <th></th>\n",
       "    </tr>\n",
       "  </thead>\n",
       "  <tbody>\n",
       "    <tr>\n",
       "      <th>1</th>\n",
       "      <td>0</td>\n",
       "      <td>0</td>\n",
       "      <td>0</td>\n",
       "      <td>4</td>\n",
       "      <td>4</td>\n",
       "      <td>0</td>\n",
       "      <td>2</td>\n",
       "      <td>2</td>\n",
       "    </tr>\n",
       "    <tr>\n",
       "      <th>2</th>\n",
       "      <td>1</td>\n",
       "      <td>2</td>\n",
       "      <td>2</td>\n",
       "      <td>4</td>\n",
       "      <td>6</td>\n",
       "      <td>6</td>\n",
       "      <td>2</td>\n",
       "      <td>1</td>\n",
       "    </tr>\n",
       "    <tr>\n",
       "      <th>3</th>\n",
       "      <td>5</td>\n",
       "      <td>4</td>\n",
       "      <td>3</td>\n",
       "      <td>2</td>\n",
       "      <td>8</td>\n",
       "      <td>4</td>\n",
       "      <td>2</td>\n",
       "      <td>1</td>\n",
       "    </tr>\n",
       "    <tr>\n",
       "      <th>4</th>\n",
       "      <td>6</td>\n",
       "      <td>5</td>\n",
       "      <td>5</td>\n",
       "      <td>9</td>\n",
       "      <td>8</td>\n",
       "      <td>10</td>\n",
       "      <td>6</td>\n",
       "      <td>6</td>\n",
       "    </tr>\n",
       "    <tr>\n",
       "      <th>5</th>\n",
       "      <td>8</td>\n",
       "      <td>13</td>\n",
       "      <td>18</td>\n",
       "      <td>19</td>\n",
       "      <td>19</td>\n",
       "      <td>16</td>\n",
       "      <td>5</td>\n",
       "      <td>15</td>\n",
       "    </tr>\n",
       "    <tr>\n",
       "      <th>6</th>\n",
       "      <td>4</td>\n",
       "      <td>31</td>\n",
       "      <td>27</td>\n",
       "      <td>22</td>\n",
       "      <td>14</td>\n",
       "      <td>13</td>\n",
       "      <td>17</td>\n",
       "      <td>30</td>\n",
       "    </tr>\n",
       "  </tbody>\n",
       "</table>\n",
       "</div>"
      ],
      "text/plain": [
       "Personality  Big sister  Cranky  Jock  Lazy  Normal  Peppy  Smug  Snooty\n",
       "Tier                                                                    \n",
       "1                     0       0     0     4       4      0     2       2\n",
       "2                     1       2     2     4       6      6     2       1\n",
       "3                     5       4     3     2       8      4     2       1\n",
       "4                     6       5     5     9       8     10     6       6\n",
       "5                     8      13    18    19      19     16     5      15\n",
       "6                     4      31    27    22      14     13    17      30"
      ]
     },
     "execution_count": 60,
     "metadata": {},
     "output_type": "execute_result"
    }
   ],
   "source": [
    "# Create a crosstab of Tier and Personality\n",
    "personality_tier_crosstab = pd.crosstab(final_merged_df['Tier'], final_merged_df['Personality'])\n",
    "\n",
    "personality_tier_crosstab"
   ]
  },
  {
   "cell_type": "code",
   "execution_count": 61,
   "id": "eaa24825",
   "metadata": {},
   "outputs": [
    {
     "data": {
      "image/png": "[encoded data removed]",
      "text/plain": [
       "<Figure size 1000x600 with 1 Axes>"
      ]
     },
     "metadata": {},
     "output_type": "display_data"
    }
   ],
   "source": [
    "# Plot a stacked bar chart\n",
    "personality_tier_crosstab.plot(kind='bar', stacked=True, figsize=(10,6))\n",
    "plt.title('Count of Personality Types in Each Tier')\n",
    "plt.xlabel('Tier')\n",
    "plt.ylabel('Count')\n",
    "\n",
    "# Adjust the rotation of x-axis labels\n",
    "plt.xticks(rotation=0) \n",
    "\n",
    "plt.show()"
   ]
  },
  {
   "cell_type": "markdown",
   "id": "1efd168c",
   "metadata": {},
   "source": [
    "From the chart, we can observe that Lazy and Normal personality types are quite popular across all tiers, with a significant presence in Tiers 1 and 2, which are the top tiers. \n",
    "\n",
    "On the other hand, Cranky and Snooty personalities are more prevalent in the lower tiers (5 and 6), suggesting that these personality types might be less popular among players. 'Jock' and 'Smug' personalities also seem to be less favored, as they are more common in the lower tiers."
   ]
  },
  {
   "cell_type": "markdown",
   "id": "6324a1c3",
   "metadata": {},
   "source": [
    "## Hobbies"
   ]
  },
  {
   "cell_type": "markdown",
   "id": "b88976b1",
   "metadata": {},
   "source": [
    "In this section, we'll analyze the relationship between hobbies and popularity. To do this, we'll calculate the average popularity ranking for each hobby and visualize this data using a bar plot."
   ]
  },
  {
   "cell_type": "code",
   "execution_count": 62,
   "id": "01181ad0",
   "metadata": {},
   "outputs": [
    {
     "data": {
      "image/png": "[encoded data removed]",
      "text/plain": [
       "<Figure size 640x480 with 1 Axes>"
      ]
     },
     "metadata": {},
     "output_type": "display_data"
    }
   ],
   "source": [
    "# Calculate average popularity by hobby\n",
    "hobby_avg_ranking = final_merged_df.groupby('Hobby')['Overall_Ranking'].mean().sort_values(ascending=False)\n",
    "\n",
    "# Plot a horizontal bar chart\n",
    "hobby_avg_ranking.plot(kind='barh', color='skyblue')\n",
    "plt.title('Average Overall Ranking by Hobby')\n",
    "plt.xlabel('Average Overall Ranking')\n",
    "plt.ylabel('Hobby')\n",
    "plt.show()"
   ]
  },
  {
   "cell_type": "markdown",
   "id": "6930fa8b",
   "metadata": {},
   "source": [
    "The bar chart visualizes the average overall ranking for each hobby, sorted from most to least popular. Nature and Music have the highest average overall ranking, indicating that they are the hobbies that the more popular villagers have. The hobby the least popular villagers have is Fitness."
   ]
  },
  {
   "cell_type": "markdown",
   "id": "812c0680",
   "metadata": {},
   "source": [
    "Next, we'll create a boxplot to visualize the distribution of overall rankings for each hobby. The red line represents the overall mean ranking across all villagers. "
   ]
  },
  {
   "cell_type": "code",
   "execution_count": 63,
   "id": "b44d05c4",
   "metadata": {},
   "outputs": [
    {
     "data": {
      "image/png": "[encoded data removed]",
      "text/plain": [
       "<Figure size 1000x600 with 1 Axes>"
      ]
     },
     "metadata": {},
     "output_type": "display_data"
    }
   ],
   "source": [
    "# create a new figure, specify size\n",
    "plt.figure(figsize=(10, 6))\n",
    "\n",
    "#draw a horizontal line at the position of the overall mean ranking\n",
    "plt.axhline(overall_mean, color='r')\n",
    "\n",
    "# create a boxplot of overall rankings, grouped by hobby\n",
    "sns.boxplot(x=\"Hobby\", y='Overall_Ranking', data=final_merged_df)\n",
    "plt.title('Overall Ranking by Hobby')\n",
    "plt.xlabel('Hobby')\n",
    "plt.ylabel('Overall Ranking')\n",
    "plt.xticks(rotation=90)\n",
    "plt.show()"
   ]
  },
  {
   "cell_type": "markdown",
   "id": "b7b0abe5",
   "metadata": {},
   "source": [
    "Nature, Music, and Play are typically have a higher overall ranking compared to Education, Fitness, and Fashion."
   ]
  },
  {
   "cell_type": "markdown",
   "id": "43c2d352",
   "metadata": {},
   "source": [
    "Then we'll look at the distribution of hobbies in each tier."
   ]
  },
  {
   "cell_type": "code",
   "execution_count": 64,
   "id": "61bb4f9b",
   "metadata": {},
   "outputs": [
    {
     "data": {
      "text/html": [
       "<div>\n",
       "<style scoped>\n",
       "    .dataframe tbody tr th:only-of-type {\n",
       "        vertical-align: middle;\n",
       "    }\n",
       "\n",
       "    .dataframe tbody tr th {\n",
       "        vertical-align: top;\n",
       "    }\n",
       "\n",
       "    .dataframe thead th {\n",
       "        text-align: right;\n",
       "    }\n",
       "</style>\n",
       "<table border=\"1\" class=\"dataframe\">\n",
       "  <thead>\n",
       "    <tr style=\"text-align: right;\">\n",
       "      <th>Hobby</th>\n",
       "      <th>Education</th>\n",
       "      <th>Fashion</th>\n",
       "      <th>Fitness</th>\n",
       "      <th>Music</th>\n",
       "      <th>Nature</th>\n",
       "      <th>Play</th>\n",
       "    </tr>\n",
       "    <tr>\n",
       "      <th>Tier</th>\n",
       "      <th></th>\n",
       "      <th></th>\n",
       "      <th></th>\n",
       "      <th></th>\n",
       "      <th></th>\n",
       "      <th></th>\n",
       "    </tr>\n",
       "  </thead>\n",
       "  <tbody>\n",
       "    <tr>\n",
       "      <th>1</th>\n",
       "      <td>2</td>\n",
       "      <td>0</td>\n",
       "      <td>0</td>\n",
       "      <td>3</td>\n",
       "      <td>6</td>\n",
       "      <td>1</td>\n",
       "    </tr>\n",
       "    <tr>\n",
       "      <th>2</th>\n",
       "      <td>5</td>\n",
       "      <td>1</td>\n",
       "      <td>2</td>\n",
       "      <td>7</td>\n",
       "      <td>3</td>\n",
       "      <td>6</td>\n",
       "    </tr>\n",
       "    <tr>\n",
       "      <th>3</th>\n",
       "      <td>4</td>\n",
       "      <td>3</td>\n",
       "      <td>2</td>\n",
       "      <td>6</td>\n",
       "      <td>8</td>\n",
       "      <td>6</td>\n",
       "    </tr>\n",
       "    <tr>\n",
       "      <th>4</th>\n",
       "      <td>10</td>\n",
       "      <td>10</td>\n",
       "      <td>4</td>\n",
       "      <td>9</td>\n",
       "      <td>10</td>\n",
       "      <td>12</td>\n",
       "    </tr>\n",
       "    <tr>\n",
       "      <th>5</th>\n",
       "      <td>13</td>\n",
       "      <td>27</td>\n",
       "      <td>20</td>\n",
       "      <td>19</td>\n",
       "      <td>19</td>\n",
       "      <td>15</td>\n",
       "    </tr>\n",
       "    <tr>\n",
       "      <th>6</th>\n",
       "      <td>30</td>\n",
       "      <td>25</td>\n",
       "      <td>38</td>\n",
       "      <td>20</td>\n",
       "      <td>20</td>\n",
       "      <td>25</td>\n",
       "    </tr>\n",
       "  </tbody>\n",
       "</table>\n",
       "</div>"
      ],
      "text/plain": [
       "Hobby  Education  Fashion  Fitness  Music  Nature  Play\n",
       "Tier                                                   \n",
       "1              2        0        0      3       6     1\n",
       "2              5        1        2      7       3     6\n",
       "3              4        3        2      6       8     6\n",
       "4             10       10        4      9      10    12\n",
       "5             13       27       20     19      19    15\n",
       "6             30       25       38     20      20    25"
      ]
     },
     "execution_count": 64,
     "metadata": {},
     "output_type": "execute_result"
    }
   ],
   "source": [
    "# Create a crosstab of Tier and Hobby\n",
    "hobby_tier_crosstab = pd.crosstab(final_merged_df['Tier'], final_merged_df['Hobby'])\n",
    "hobby_tier_crosstab "
   ]
  },
  {
   "cell_type": "code",
   "execution_count": 65,
   "id": "7b691273",
   "metadata": {},
   "outputs": [
    {
     "data": {
      "image/png": "[encoded data removed]",
      "text/plain": [
       "<Figure size 1000x600 with 1 Axes>"
      ]
     },
     "metadata": {},
     "output_type": "display_data"
    }
   ],
   "source": [
    "# Plot a stacked bar chart\n",
    "hobby_tier_crosstab.plot(kind='bar', stacked=True, figsize=(10,6))\n",
    "plt.title('Count of Hobbies in Each Tier')\n",
    "plt.xlabel('Tier')\n",
    "plt.ylabel('Count')\n",
    "\n",
    "# Adjust the rotation of x-axis labels\n",
    "plt.xticks(rotation=0) \n",
    "\n",
    "plt.show()"
   ]
  },
  {
   "cell_type": "markdown",
   "id": "21c7e291",
   "metadata": {},
   "source": [
    "Nature and Music hobbies are well-represented in the top tiers (1 and 2). On the other hand, Fitness, Education, and Play hobbies are more common in the lower tiers (5 and 6). Fashion hobby shows a balanced distribution across all tiers."
   ]
  },
  {
   "cell_type": "markdown",
   "id": "e5376691",
   "metadata": {},
   "source": [
    "## Requests"
   ]
  },
  {
   "cell_type": "markdown",
   "id": "44be6ec7",
   "metadata": {},
   "source": [
    "In this section, we will create a bar graph that represents the average popularity ranking of villagers based on the category of their requests. The categories are derived from the most common words found in the villagers' requests."
   ]
  },
  {
   "cell_type": "code",
   "execution_count": 66,
   "id": "3db27b73",
   "metadata": {},
   "outputs": [
    {
     "data": {
      "image/png": "[encoded data removed]",
      "text/plain": [
       "<Figure size 1000x600 with 1 Axes>"
      ]
     },
     "metadata": {},
     "output_type": "display_data"
    }
   ],
   "source": [
    "# Convert the dictionary to a pandas Series for easier plotting\n",
    "category_popularity_series = pd.Series(category_popularity)\n",
    "\n",
    "# Sort the series\n",
    "category_popularity_series = category_popularity_series.sort_values(ascending=False)\n",
    "\n",
    "# Create a bar plot\n",
    "plt.figure(figsize=(10,6))\n",
    "category_popularity_series.plot(kind='barh', color='skyblue')\n",
    "\n",
    "# Add labels and title\n",
    "plt.xlabel('Average Overall Ranking')\n",
    "plt.ylabel('Request Category')\n",
    "plt.title('Average Popularity by Request Category')\n",
    "\n",
    "# Show the plot\n",
    "plt.show()"
   ]
  },
  {
   "cell_type": "markdown",
   "id": "39fca9ea",
   "metadata": {},
   "source": [
    "The category 'palace' has the lowest average popularity ranking, which means villagers who have requests containing the word 'palace' are, on average, the most popular. On the other hand, the category 'sports' has the highest average popularity ranking, indicating that villagers with requests containing the word 'sports' are, on average, the least popular.\n",
    "\n",
    "It's important to note that these results are based on the assumption that the most common words in the villagers' requests are representative of the content of the requests. "
   ]
  },
  {
   "cell_type": "markdown",
   "id": "06cc14d3",
   "metadata": {},
   "source": [
    "## Songs"
   ]
  },
  {
   "cell_type": "markdown",
   "id": "cde60472",
   "metadata": {},
   "source": [
    "Using the calculation of the top 10 songs based on popularity from earlier, we will plot the distribution on a bar graph."
   ]
  },
  {
   "cell_type": "code",
   "execution_count": 67,
   "id": "8eb0d61f",
   "metadata": {},
   "outputs": [
    {
     "data": {
      "image/png": "[encoded data removed]",
      "text/plain": [
       "<Figure size 640x480 with 1 Axes>"
      ]
     },
     "metadata": {},
     "output_type": "display_data"
    }
   ],
   "source": [
    "# Plot distribution\n",
    "ax = top_10_songs.plot(kind='barh')\n",
    "plt.xlabel('Average Popularity')\n",
    "plt.title('Distribution of Popularity for Top 10 Songs'.format(10))\n",
    "\n",
    "# invert the y-axis so most popular is at the top\n",
    "ax.invert_yaxis()\n",
    "\n",
    "plt.show()"
   ]
  },
  {
   "cell_type": "markdown",
   "id": "d80095e7",
   "metadata": {},
   "source": [
    "\"Bubblegum K.K.\" and \"K.K. Lovers\" are the most popular songs, with average popularity rankings of 72 and 79.25 respectively. This suggests that these songs are favored by the most popular villagers. On the other hand, \"Only Me\" and \"Spring Blossoms\" have the highest average popularity rankings among the top 10 songs, indicating that they are favored by less popular villagers."
   ]
  },
  {
   "cell_type": "markdown",
   "id": "2a32eeb8",
   "metadata": {},
   "source": [
    "# Summary of Findings\n",
    "\n",
    "## Species\n",
    "The species of a villager appears to have a significant impact on their popularity. The Octopus species stands out as the most popular, with the highest average popularity ranking and the highest proportion of villagers in the top tier. The Deer, Wolf, Cat, and Koala species also tend to be more popular, with high average popularity rankings.\n",
    "\n",
    "On the other hand, the Gorilla, Pig, Mouse, Hippo, and Kangaroo species are generally less popular, with low average popularity rankings and little to no presence in the top tier.\n",
    "\n",
    "There is also a notable variation in popularity within some species. For instance, the Goat species has the widest range of popularity rankings, indicating a significant disparity in popularity among its villagers.\n",
    "\n",
    "These findings suggest that the species of a villager is a key factor influencing their popularity among players.\n",
    "\n",
    "## Gender\n",
    "The gender of a villager does seem to have an impact on their popularity. Female villagers are generally more popular than male villagers, as indicated by their lower average popularity ranking. However, the variation in popularity rankings is slightly wider for female villagers, suggesting a broader range of popularity levels within this group.\n",
    "\n",
    "While there are more male villagers overall, they are disproportionately represented in the lowest popularity tier. This suggests that male villagers are more likely to be less popular among players.\n",
    "\n",
    "These findings suggest that gender is a factor that can influence a villager's popularity, with female villagers tending to be more popular overall.\n",
    "\n",
    "## Personality\n",
    "The personality of a villager appears to significantly influence their popularity. Villagers with 'Big Sister', 'Normal', and 'Peppy' personalities tend to be more popular, as indicated by their lower average popularity rankings and their higher presence in the top popularity tiers.\n",
    "\n",
    "On the other hand, villagers with 'Cranky', 'Jock', and 'Snooty' personalities are generally less popular, with higher average popularity rankings and a greater presence in the lower popularity tiers.\n",
    "\n",
    "'Lazy' personality type is quite common and has a mixed popularity, with a significant presence across all tiers.\n",
    "\n",
    "These findings suggest that the personality of a villager is a key factor in determining their popularity among players.\n",
    "\n",
    "## Hobbies\n",
    "The hobby of a villager appears to have an impact on their popularity. Villagers with 'Nature' and 'Music' hobbies are generally more popular, as indicated by their lower average popularity rankings and higher representation in the top popularity tier.\n",
    "\n",
    "On the other hand, villagers with 'Fitness', 'Education', and 'Fashion' hobbies are generally less popular, with higher average popularity rankings and lower representation in the top popularity tier.\n",
    "\n",
    "'Play' hobby is quite common but has a mixed popularity, with a significant presence across all tiers.\n",
    "\n",
    "These findings suggest that the hobby of a villager is a factor in popularity among players.\n",
    "\n",
    "## Requests\n",
    "The nature of a villager's requests seems to have a correlation with their popularity. Villagers who make requests related to 'palace', 'place', and 'full' are generally more popular, as indicated by their lower average popularity rankings.\n",
    "\n",
    "On the other hand, villagers who make requests related to 'sports' are generally less popular, with higher average popularity rankings.\n",
    "\n",
    "Other request themes such as 'home', 'house', 'garden', 'space', 'café', 'gym', 'studio', 'paradise', 'secret', 'cabin', 'grounds', 'bungalow', 'life', 'manor', 'hideaway', and 'field' have varying levels of popularity among villagers.\n",
    "\n",
    "These findings suggest that the content of a villager's requests could be a factor in their popularity among players.\n",
    "\n",
    "## Songs\n",
    "The song preferences of villagers appear to correlate with their popularity. Villagers who favor songs like \"Bubblegum K.K.\" and \"K.K. Lovers\" tend to be more popular, as these songs have the lowest average popularity rankings. Conversely, villagers who favor songs like \"Only Me\" and \"Spring Blossoms\" tend to be less popular, as these songs have the highest average popularity rankings among the top 10 songs. This suggests that the song preferences of villagers could be a factor in their popularity among players."
   ]
  }
 ],
 "metadata": {
  "kernelspec": {
   "display_name": "Python 3 (ipykernel)",
   "language": "python",
   "name": "python3"
  },
  "language_info": {
   "codemirror_mode": {
    "name": "ipython",
    "version": 3
   },
   "file_extension": ".py",
   "mimetype": "text/x-python",
   "name": "python",
   "nbconvert_exporter": "python",
   "pygments_lexer": "ipython3",
   "version": "3.11.1"
  }
 },
 "nbformat": 4,
 "nbformat_minor": 5
}
